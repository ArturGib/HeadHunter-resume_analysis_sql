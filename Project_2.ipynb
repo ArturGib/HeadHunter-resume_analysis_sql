{
  "cells": [
    {
      "cell_type": "markdown",
      "id": "42289889-bd57-434e-9637-d3e354756316",
      "metadata": {
        "id": "42289889-bd57-434e-9637-d3e354756316"
      },
      "source": [
        "<center> <img src = https://raw.githubusercontent.com/AndreyRysistov/DatasetsForPandas/main/hh%20label.jpg alt=\"drawing\" style=\"width:400px;\">"
      ]
    },
    {
      "cell_type": "markdown",
      "id": "829cb75b-f14e-4ba8-9195-7ba929a7d656",
      "metadata": {
        "id": "829cb75b-f14e-4ba8-9195-7ba929a7d656",
        "tags": []
      },
      "source": [
        "# <center> Проект: Анализ вакансий из HeadHunter\n",
        "   "
      ]
    },
    {
      "cell_type": "code",
      "execution_count": 488,
      "id": "dccfde33-2452-43fb-a8a5-5c6ebc02a71d",
      "metadata": {
        "id": "dccfde33-2452-43fb-a8a5-5c6ebc02a71d"
      },
      "outputs": [],
      "source": [
        "#Импорт необходимых пакетов\n",
        "import pandas as pd\n",
        "import psycopg2\n",
        "import json\n",
        "import pprint as pp\n",
        "import requests\n",
        "from bs4 import BeautifulSoup\n",
        "import seaborn as sns\n",
        "from pprint import pprint\n",
        "from collections import Counter\n"
      ]
    },
    {
      "cell_type": "code",
      "execution_count": 489,
      "id": "oVKH4ehvf8Ay",
      "metadata": {
        "id": "oVKH4ehvf8Ay"
      },
      "outputs": [],
      "source": [
        "# вставьте сюда параметры подключения из юнита 1. Работа с базой данных из Python \n",
        "# настройки подключения в папке data, файл settings.json добавлен в .gitignore\n",
        "setting = dict()\n",
        "with open('data/settings.json', 'r') as f:\n",
        "    setting = json.load(f)"
      ]
    },
    {
      "cell_type": "code",
      "execution_count": 547,
      "id": "G4X_q8KBf7SF",
      "metadata": {
        "id": "G4X_q8KBf7SF"
      },
      "outputs": [],
      "source": [
        "connection = psycopg2.connect(\n",
        "    dbname=setting[\"DBNAME\"],\n",
        "    user=setting[\"USER\"],\n",
        "    host=setting[\"HOST\"],\n",
        "    password=setting[\"PASSWORD\"],\n",
        "    port=setting[\"PORT\"]\n",
        ")"
      ]
    },
    {
      "cell_type": "markdown",
      "id": "0dc6476b-7a00-44f1-ac93-6e3baed33a29",
      "metadata": {
        "id": "0dc6476b-7a00-44f1-ac93-6e3baed33a29"
      },
      "source": [
        "# Юнит 3. Предварительный анализ данных"
      ]
    },
    {
      "cell_type": "markdown",
      "id": "889782b6-8d1c-410e-8920-e57f27917c64",
      "metadata": {
        "id": "889782b6-8d1c-410e-8920-e57f27917c64"
      },
      "source": [
        "1. Напишите запрос, который посчитает количество вакансий в нашей базе (вакансии находятся в таблице vacancies). "
      ]
    },
    {
      "cell_type": "code",
      "execution_count": 491,
      "id": "bc39e68e-ed02-4ee2-9235-7258a2f867a8",
      "metadata": {
        "id": "bc39e68e-ed02-4ee2-9235-7258a2f867a8"
      },
      "outputs": [],
      "source": [
        "# текст запроса\n",
        "query_3_1 = f'''\n",
        "    SELECT \n",
        "        COUNT(id) as unique_vacancies,\n",
        "        COUNT(distinct name) as unique_name\n",
        "    FROM vacancies\n",
        "'''"
      ]
    },
    {
      "cell_type": "code",
      "execution_count": 492,
      "id": "7mAwtsk4hEHY",
      "metadata": {
        "id": "7mAwtsk4hEHY"
      },
      "outputs": [
        {
          "name": "stdout",
          "output_type": "stream",
          "text": [
            "Table query_3_1\n"
          ]
        },
        {
          "data": {
            "text/html": [
              "<div>\n",
              "<style scoped>\n",
              "    .dataframe tbody tr th:only-of-type {\n",
              "        vertical-align: middle;\n",
              "    }\n",
              "\n",
              "    .dataframe tbody tr th {\n",
              "        vertical-align: top;\n",
              "    }\n",
              "\n",
              "    .dataframe thead th {\n",
              "        text-align: right;\n",
              "    }\n",
              "</style>\n",
              "<table border=\"1\" class=\"dataframe\">\n",
              "  <thead>\n",
              "    <tr style=\"text-align: right;\">\n",
              "      <th></th>\n",
              "      <th>unique_vacancies</th>\n",
              "      <th>unique_name</th>\n",
              "    </tr>\n",
              "  </thead>\n",
              "  <tbody>\n",
              "    <tr>\n",
              "      <th>0</th>\n",
              "      <td>49197</td>\n",
              "      <td>21223</td>\n",
              "    </tr>\n",
              "  </tbody>\n",
              "</table>\n",
              "</div>"
            ],
            "text/plain": [
              "   unique_vacancies  unique_name\n",
              "0             49197        21223"
            ]
          },
          "metadata": {},
          "output_type": "display_data"
        },
        {
          "name": "stdout",
          "output_type": "stream",
          "text": [
            "Table vacancies\n"
          ]
        },
        {
          "data": {
            "text/html": [
              "<div>\n",
              "<style scoped>\n",
              "    .dataframe tbody tr th:only-of-type {\n",
              "        vertical-align: middle;\n",
              "    }\n",
              "\n",
              "    .dataframe tbody tr th {\n",
              "        vertical-align: top;\n",
              "    }\n",
              "\n",
              "    .dataframe thead th {\n",
              "        text-align: right;\n",
              "    }\n",
              "</style>\n",
              "<table border=\"1\" class=\"dataframe\">\n",
              "  <thead>\n",
              "    <tr style=\"text-align: right;\">\n",
              "      <th></th>\n",
              "      <th>id</th>\n",
              "      <th>name</th>\n",
              "      <th>key_skills</th>\n",
              "      <th>schedule</th>\n",
              "      <th>experience</th>\n",
              "      <th>employment</th>\n",
              "      <th>salary_from</th>\n",
              "      <th>salary_to</th>\n",
              "      <th>area_id</th>\n",
              "      <th>employer_id</th>\n",
              "    </tr>\n",
              "  </thead>\n",
              "  <tbody>\n",
              "    <tr>\n",
              "      <th>0</th>\n",
              "      <td>55312386</td>\n",
              "      <td>Компьютерный Мастер</td>\n",
              "      <td>Пользователь ПК\\tРабота в команде\\tРемонт ноут...</td>\n",
              "      <td>Полный день</td>\n",
              "      <td>Нет опыта</td>\n",
              "      <td>Полная занятость</td>\n",
              "      <td>64000.0</td>\n",
              "      <td>None</td>\n",
              "      <td>1516</td>\n",
              "      <td>5724811</td>\n",
              "    </tr>\n",
              "    <tr>\n",
              "      <th>1</th>\n",
              "      <td>55843014</td>\n",
              "      <td>Системный администратор</td>\n",
              "      <td>Средства криптографической защиты информации\\t...</td>\n",
              "      <td>Полный день</td>\n",
              "      <td>От 3 до 6 лет</td>\n",
              "      <td>Полная занятость</td>\n",
              "      <td>NaN</td>\n",
              "      <td>None</td>\n",
              "      <td>130</td>\n",
              "      <td>4903713</td>\n",
              "    </tr>\n",
              "    <tr>\n",
              "      <th>2</th>\n",
              "      <td>54525964</td>\n",
              "      <td>Lead Java Developer to Poland</td>\n",
              "      <td>Spring Framework\\tSQL\\tHibernate ORM\\tJava\\tGit</td>\n",
              "      <td>Удаленная работа</td>\n",
              "      <td>От 3 до 6 лет</td>\n",
              "      <td>Полная занятость</td>\n",
              "      <td>NaN</td>\n",
              "      <td>None</td>\n",
              "      <td>160</td>\n",
              "      <td>69961</td>\n",
              "    </tr>\n",
              "    <tr>\n",
              "      <th>3</th>\n",
              "      <td>54525965</td>\n",
              "      <td>Lead Java Developer to Poland</td>\n",
              "      <td>Spring Framework\\tSQL\\tHibernate ORM\\tJava\\tGit</td>\n",
              "      <td>Удаленная работа</td>\n",
              "      <td>От 3 до 6 лет</td>\n",
              "      <td>Полная занятость</td>\n",
              "      <td>NaN</td>\n",
              "      <td>None</td>\n",
              "      <td>159</td>\n",
              "      <td>69961</td>\n",
              "    </tr>\n",
              "    <tr>\n",
              "      <th>4</th>\n",
              "      <td>55354053</td>\n",
              "      <td>Специалист службы поддержки с техническими зна...</td>\n",
              "      <td>None</td>\n",
              "      <td>Удаленная работа</td>\n",
              "      <td>Нет опыта</td>\n",
              "      <td>Частичная занятость</td>\n",
              "      <td>15000.0</td>\n",
              "      <td>None</td>\n",
              "      <td>1955</td>\n",
              "      <td>1740</td>\n",
              "    </tr>\n",
              "  </tbody>\n",
              "</table>\n",
              "</div>"
            ],
            "text/plain": [
              "         id                                               name  \\\n",
              "0  55312386                                Компьютерный Мастер   \n",
              "1  55843014                            Системный администратор   \n",
              "2  54525964                      Lead Java Developer to Poland   \n",
              "3  54525965                      Lead Java Developer to Poland   \n",
              "4  55354053  Специалист службы поддержки с техническими зна...   \n",
              "\n",
              "                                          key_skills          schedule  \\\n",
              "0  Пользователь ПК\\tРабота в команде\\tРемонт ноут...       Полный день   \n",
              "1  Средства криптографической защиты информации\\t...       Полный день   \n",
              "2    Spring Framework\\tSQL\\tHibernate ORM\\tJava\\tGit  Удаленная работа   \n",
              "3    Spring Framework\\tSQL\\tHibernate ORM\\tJava\\tGit  Удаленная работа   \n",
              "4                                               None  Удаленная работа   \n",
              "\n",
              "      experience           employment  salary_from salary_to  area_id  \\\n",
              "0      Нет опыта     Полная занятость      64000.0      None     1516   \n",
              "1  От 3 до 6 лет     Полная занятость          NaN      None      130   \n",
              "2  От 3 до 6 лет     Полная занятость          NaN      None      160   \n",
              "3  От 3 до 6 лет     Полная занятость          NaN      None      159   \n",
              "4      Нет опыта  Частичная занятость      15000.0      None     1955   \n",
              "\n",
              "   employer_id  \n",
              "0      5724811  \n",
              "1      4903713  \n",
              "2        69961  \n",
              "3        69961  \n",
              "4         1740  "
            ]
          },
          "metadata": {},
          "output_type": "display_data"
        }
      ],
      "source": [
        "# результат запроса\n",
        "df = pd.read_sql_query(query_3_1, connection)\n",
        "print('Table query_3_1')\n",
        "display(df)\n",
        "\n",
        "# дополнительно выведем часть таблички, \n",
        "# чтобы понимать данные которые  анализируем\n",
        "query = f\"\"\"\n",
        "    SELECT *\n",
        "    FROM vacancies\n",
        "    LIMIT 5\n",
        "\"\"\"\n",
        "df = pd.read_sql_query(query, connection)\n",
        "print('Table vacancies')\n",
        "display(df)"
      ]
    },
    {
      "cell_type": "markdown",
      "id": "b583485d-1f9e-494e-ada4-80ffff7c53d6",
      "metadata": {
        "id": "b583485d-1f9e-494e-ada4-80ffff7c53d6"
      },
      "source": [
        "2. Напишите запрос, который посчитает количество работодателей (таблица employers). "
      ]
    },
    {
      "cell_type": "code",
      "execution_count": 493,
      "id": "5408c52c-3407-4a63-b25b-1aafa2322d28",
      "metadata": {
        "id": "5408c52c-3407-4a63-b25b-1aafa2322d28"
      },
      "outputs": [],
      "source": [
        "# текст запроса\n",
        "query_3_2 = f'''\n",
        "    SELECT \n",
        "        COUNT(id) as unique_employers,\n",
        "        COUNT(distinct area) as count_areas --посчитаем дополнительно уникальные районы\n",
        "    FROM employers\n",
        "'''"
      ]
    },
    {
      "cell_type": "code",
      "execution_count": 494,
      "id": "jVL4eshKhdqc",
      "metadata": {
        "id": "jVL4eshKhdqc"
      },
      "outputs": [
        {
          "name": "stdout",
          "output_type": "stream",
          "text": [
            "Table query_3_2\n"
          ]
        },
        {
          "data": {
            "text/html": [
              "<div>\n",
              "<style scoped>\n",
              "    .dataframe tbody tr th:only-of-type {\n",
              "        vertical-align: middle;\n",
              "    }\n",
              "\n",
              "    .dataframe tbody tr th {\n",
              "        vertical-align: top;\n",
              "    }\n",
              "\n",
              "    .dataframe thead th {\n",
              "        text-align: right;\n",
              "    }\n",
              "</style>\n",
              "<table border=\"1\" class=\"dataframe\">\n",
              "  <thead>\n",
              "    <tr style=\"text-align: right;\">\n",
              "      <th></th>\n",
              "      <th>unique_employers</th>\n",
              "      <th>count_areas</th>\n",
              "    </tr>\n",
              "  </thead>\n",
              "  <tbody>\n",
              "    <tr>\n",
              "      <th>0</th>\n",
              "      <td>23501</td>\n",
              "      <td>654</td>\n",
              "    </tr>\n",
              "  </tbody>\n",
              "</table>\n",
              "</div>"
            ],
            "text/plain": [
              "   unique_employers  count_areas\n",
              "0             23501          654"
            ]
          },
          "metadata": {},
          "output_type": "display_data"
        },
        {
          "name": "stdout",
          "output_type": "stream",
          "text": [
            "Table employers\n"
          ]
        },
        {
          "data": {
            "text/html": [
              "<div>\n",
              "<style scoped>\n",
              "    .dataframe tbody tr th:only-of-type {\n",
              "        vertical-align: middle;\n",
              "    }\n",
              "\n",
              "    .dataframe tbody tr th {\n",
              "        vertical-align: top;\n",
              "    }\n",
              "\n",
              "    .dataframe thead th {\n",
              "        text-align: right;\n",
              "    }\n",
              "</style>\n",
              "<table border=\"1\" class=\"dataframe\">\n",
              "  <thead>\n",
              "    <tr style=\"text-align: right;\">\n",
              "      <th></th>\n",
              "      <th>id</th>\n",
              "      <th>name</th>\n",
              "      <th>area</th>\n",
              "    </tr>\n",
              "  </thead>\n",
              "  <tbody>\n",
              "    <tr>\n",
              "      <th>0</th>\n",
              "      <td>2393</td>\n",
              "      <td>Программный Продукт, ИТ-компания</td>\n",
              "      <td>1</td>\n",
              "    </tr>\n",
              "    <tr>\n",
              "      <th>1</th>\n",
              "      <td>72977</td>\n",
              "      <td>БАРС Груп</td>\n",
              "      <td>88</td>\n",
              "    </tr>\n",
              "    <tr>\n",
              "      <th>2</th>\n",
              "      <td>3155</td>\n",
              "      <td>Бест, Торгово-производственная компания, Екате...</td>\n",
              "      <td>3</td>\n",
              "    </tr>\n",
              "    <tr>\n",
              "      <th>3</th>\n",
              "      <td>675</td>\n",
              "      <td>КОРУС Консалтинг</td>\n",
              "      <td>2</td>\n",
              "    </tr>\n",
              "    <tr>\n",
              "      <th>4</th>\n",
              "      <td>1840010</td>\n",
              "      <td>филиал ФКУ Налог-Сервис ФНС России в Республик...</td>\n",
              "      <td>88</td>\n",
              "    </tr>\n",
              "  </tbody>\n",
              "</table>\n",
              "</div>"
            ],
            "text/plain": [
              "        id                                               name  area\n",
              "0     2393                   Программный Продукт, ИТ-компания     1\n",
              "1    72977                                          БАРС Груп    88\n",
              "2     3155  Бест, Торгово-производственная компания, Екате...     3\n",
              "3      675                                   КОРУС Консалтинг     2\n",
              "4  1840010  филиал ФКУ Налог-Сервис ФНС России в Республик...    88"
            ]
          },
          "metadata": {},
          "output_type": "display_data"
        }
      ],
      "source": [
        "# результат запроса\n",
        "df = pd.read_sql_query(query_3_2, connection)\n",
        "print('Table query_3_2')\n",
        "display(df)\n",
        "\n",
        "# дополнительно выведем часть таблички, \n",
        "# чтобы понимать данные которые  анализируем\n",
        "query = f\"\"\"\n",
        "    SELECT *\n",
        "    FROM employers\n",
        "    LIMIT 5\n",
        "\"\"\"\n",
        "df = pd.read_sql_query(query, connection)\n",
        "print(\"Table employers\")\n",
        "display(df)"
      ]
    },
    {
      "cell_type": "markdown",
      "id": "a2bfff1f-c975-4bf6-84be-2185d79dcb76",
      "metadata": {
        "id": "a2bfff1f-c975-4bf6-84be-2185d79dcb76"
      },
      "source": [
        "3. Посчитате с помощью запроса количество регионов (таблица areas)."
      ]
    },
    {
      "cell_type": "code",
      "execution_count": 495,
      "id": "1m8QJwBYhey6",
      "metadata": {
        "id": "1m8QJwBYhey6"
      },
      "outputs": [],
      "source": [
        "# текст запроса\n",
        "query_3_3 = f'''\n",
        "    SELECT \n",
        "        COUNT('id')\n",
        "    FROM areas\n",
        "'''"
      ]
    },
    {
      "cell_type": "code",
      "execution_count": 496,
      "id": "EZsn9tlfhe7f",
      "metadata": {
        "id": "EZsn9tlfhe7f"
      },
      "outputs": [
        {
          "name": "stdout",
          "output_type": "stream",
          "text": [
            "Table query_3_3\n"
          ]
        },
        {
          "data": {
            "text/html": [
              "<div>\n",
              "<style scoped>\n",
              "    .dataframe tbody tr th:only-of-type {\n",
              "        vertical-align: middle;\n",
              "    }\n",
              "\n",
              "    .dataframe tbody tr th {\n",
              "        vertical-align: top;\n",
              "    }\n",
              "\n",
              "    .dataframe thead th {\n",
              "        text-align: right;\n",
              "    }\n",
              "</style>\n",
              "<table border=\"1\" class=\"dataframe\">\n",
              "  <thead>\n",
              "    <tr style=\"text-align: right;\">\n",
              "      <th></th>\n",
              "      <th>count</th>\n",
              "    </tr>\n",
              "  </thead>\n",
              "  <tbody>\n",
              "    <tr>\n",
              "      <th>0</th>\n",
              "      <td>1362</td>\n",
              "    </tr>\n",
              "  </tbody>\n",
              "</table>\n",
              "</div>"
            ],
            "text/plain": [
              "   count\n",
              "0   1362"
            ]
          },
          "metadata": {},
          "output_type": "display_data"
        },
        {
          "name": "stdout",
          "output_type": "stream",
          "text": [
            "Table areas LIMIT 5\n"
          ]
        },
        {
          "data": {
            "text/html": [
              "<div>\n",
              "<style scoped>\n",
              "    .dataframe tbody tr th:only-of-type {\n",
              "        vertical-align: middle;\n",
              "    }\n",
              "\n",
              "    .dataframe tbody tr th {\n",
              "        vertical-align: top;\n",
              "    }\n",
              "\n",
              "    .dataframe thead th {\n",
              "        text-align: right;\n",
              "    }\n",
              "</style>\n",
              "<table border=\"1\" class=\"dataframe\">\n",
              "  <thead>\n",
              "    <tr style=\"text-align: right;\">\n",
              "      <th></th>\n",
              "      <th>id</th>\n",
              "      <th>name</th>\n",
              "    </tr>\n",
              "  </thead>\n",
              "  <tbody>\n",
              "    <tr>\n",
              "      <th>0</th>\n",
              "      <td>2758</td>\n",
              "      <td>Тбилиси</td>\n",
              "    </tr>\n",
              "    <tr>\n",
              "      <th>1</th>\n",
              "      <td>8</td>\n",
              "      <td>Майкоп</td>\n",
              "    </tr>\n",
              "    <tr>\n",
              "      <th>2</th>\n",
              "      <td>1180</td>\n",
              "      <td>Нерюнгри</td>\n",
              "    </tr>\n",
              "    <tr>\n",
              "      <th>3</th>\n",
              "      <td>1240</td>\n",
              "      <td>Новокузнецк</td>\n",
              "    </tr>\n",
              "    <tr>\n",
              "      <th>4</th>\n",
              "      <td>2</td>\n",
              "      <td>Санкт-Петербург</td>\n",
              "    </tr>\n",
              "  </tbody>\n",
              "</table>\n",
              "</div>"
            ],
            "text/plain": [
              "     id             name\n",
              "0  2758          Тбилиси\n",
              "1     8           Майкоп\n",
              "2  1180         Нерюнгри\n",
              "3  1240      Новокузнецк\n",
              "4     2  Санкт-Петербург"
            ]
          },
          "metadata": {},
          "output_type": "display_data"
        }
      ],
      "source": [
        "# результат запроса\n",
        "df = pd.read_sql_query(query_3_3, connection)\n",
        "print(\"Table query_3_3\")\n",
        "display(df) \n",
        "\n",
        "#Выведем часть таблички\n",
        "query = f\"\"\"\n",
        "    SELECT *\n",
        "    FROM areas\n",
        "    LIMIT 5\n",
        "\"\"\"\n",
        "df = pd.read_sql_query(query, connection)\n",
        "print(\"Table areas LIMIT 5\")\n",
        "display(df)"
      ]
    },
    {
      "cell_type": "markdown",
      "id": "41bb59f3-53cc-4a67-a5bc-bedf573955e4",
      "metadata": {
        "id": "41bb59f3-53cc-4a67-a5bc-bedf573955e4"
      },
      "source": [
        "4. Посчитате с помощью запроса количество сфер деятельности в базе (таблица industries)."
      ]
    },
    {
      "cell_type": "code",
      "execution_count": 497,
      "id": "d286cf4c-707b-4cd2-9190-7ab3587d04a1",
      "metadata": {
        "id": "d286cf4c-707b-4cd2-9190-7ab3587d04a1"
      },
      "outputs": [],
      "source": [
        "# текст запроса\n",
        "query_3_4 = f'''\n",
        "    SELECT \n",
        "        COUNT('id')\n",
        "    FROM industries\n",
        "'''"
      ]
    },
    {
      "cell_type": "code",
      "execution_count": 498,
      "id": "JYAaoZ4qhfzW",
      "metadata": {
        "id": "JYAaoZ4qhfzW"
      },
      "outputs": [
        {
          "name": "stdout",
          "output_type": "stream",
          "text": [
            "Table query_3_4\n"
          ]
        },
        {
          "data": {
            "text/html": [
              "<div>\n",
              "<style scoped>\n",
              "    .dataframe tbody tr th:only-of-type {\n",
              "        vertical-align: middle;\n",
              "    }\n",
              "\n",
              "    .dataframe tbody tr th {\n",
              "        vertical-align: top;\n",
              "    }\n",
              "\n",
              "    .dataframe thead th {\n",
              "        text-align: right;\n",
              "    }\n",
              "</style>\n",
              "<table border=\"1\" class=\"dataframe\">\n",
              "  <thead>\n",
              "    <tr style=\"text-align: right;\">\n",
              "      <th></th>\n",
              "      <th>count</th>\n",
              "    </tr>\n",
              "  </thead>\n",
              "  <tbody>\n",
              "    <tr>\n",
              "      <th>0</th>\n",
              "      <td>294</td>\n",
              "    </tr>\n",
              "  </tbody>\n",
              "</table>\n",
              "</div>"
            ],
            "text/plain": [
              "   count\n",
              "0    294"
            ]
          },
          "metadata": {},
          "output_type": "display_data"
        },
        {
          "name": "stdout",
          "output_type": "stream",
          "text": [
            "Table industries LIMIT 5\n"
          ]
        },
        {
          "data": {
            "text/html": [
              "<div>\n",
              "<style scoped>\n",
              "    .dataframe tbody tr th:only-of-type {\n",
              "        vertical-align: middle;\n",
              "    }\n",
              "\n",
              "    .dataframe tbody tr th {\n",
              "        vertical-align: top;\n",
              "    }\n",
              "\n",
              "    .dataframe thead th {\n",
              "        text-align: right;\n",
              "    }\n",
              "</style>\n",
              "<table border=\"1\" class=\"dataframe\">\n",
              "  <thead>\n",
              "    <tr style=\"text-align: right;\">\n",
              "      <th></th>\n",
              "      <th>id</th>\n",
              "      <th>name</th>\n",
              "    </tr>\n",
              "  </thead>\n",
              "  <tbody>\n",
              "    <tr>\n",
              "      <th>0</th>\n",
              "      <td>7.540</td>\n",
              "      <td>Разработка программного обеспечения</td>\n",
              "    </tr>\n",
              "    <tr>\n",
              "      <th>1</th>\n",
              "      <td>7.539</td>\n",
              "      <td>Системная интеграция,  автоматизации технологи...</td>\n",
              "    </tr>\n",
              "    <tr>\n",
              "      <th>2</th>\n",
              "      <td>27.550</td>\n",
              "      <td>Безалкогольные напитки (производство)</td>\n",
              "    </tr>\n",
              "    <tr>\n",
              "      <th>3</th>\n",
              "      <td>27.551</td>\n",
              "      <td>Безалкогольные напитки (продвижение, оптовая т...</td>\n",
              "    </tr>\n",
              "    <tr>\n",
              "      <th>4</th>\n",
              "      <td>13.664</td>\n",
              "      <td>Управление и эксплуатация недвижимости</td>\n",
              "    </tr>\n",
              "  </tbody>\n",
              "</table>\n",
              "</div>"
            ],
            "text/plain": [
              "       id                                               name\n",
              "0   7.540                Разработка программного обеспечения\n",
              "1   7.539  Системная интеграция,  автоматизации технологи...\n",
              "2  27.550              Безалкогольные напитки (производство)\n",
              "3  27.551  Безалкогольные напитки (продвижение, оптовая т...\n",
              "4  13.664             Управление и эксплуатация недвижимости"
            ]
          },
          "metadata": {},
          "output_type": "display_data"
        }
      ],
      "source": [
        "# результат запроса\n",
        "df = pd.read_sql_query(query_3_4, connection)\n",
        "print(\"Table query_3_4\")\n",
        "display(df)\n",
        "\n",
        "#Выведем часть таблички\n",
        "query = f\"\"\"\n",
        "    SELECT *\n",
        "    FROM industries\n",
        "    LIMIT 5\n",
        "\"\"\"\n",
        "df = pd.read_sql_query(query, connection)\n",
        "print(\"Table industries LIMIT 5\")\n",
        "display(df)"
      ]
    },
    {
      "cell_type": "markdown",
      "id": "9a8a2181-6914-448b-85f1-38f5f18b8a93",
      "metadata": {
        "id": "9a8a2181-6914-448b-85f1-38f5f18b8a93"
      },
      "source": [
        "***"
      ]
    },
    {
      "attachments": {},
      "cell_type": "markdown",
      "id": "be4e9bd3-a4db-4a20-82fb-6b02fc2957e0",
      "metadata": {
        "id": "be4e9bd3-a4db-4a20-82fb-6b02fc2957e0"
      },
      "source": [
        "# Выводы по предварительному анализу данных\n",
        "- По таблице вакансий можно обратить внимание, что количество вакансий в 2 раза больше числа уникальных названий профессий. В таком случае невозможно напрямую пользоваться названиями вакансий, а только вычленять слова из названия профессии для дальнейшего анализа, а так же использовать key_skills, для понимания направления деятельности.\n",
        "- Число вакансий на 2 порядка превышает количество сфер деятельности. Для отдельных вакансий должно точно найтись довольно много вакансий, чтобы проводить статистический анализ (понятно, что если на одну сферу деятельности придется лишь пара вакансий, то анализ будет затруднителен)\n",
        "- Число работодателей почти так же велико как и число вакансий, но не факт что каждый работодатель размещал вакансии, нужны дополнительные исследования.\n",
        "- Число регионов, где представлены работодатели (654) почти в 2 раза меньше числа возможных к указанию регионов (1362).  "
      ]
    },
    {
      "cell_type": "markdown",
      "id": "8d62a9f3-f64e-4fe7-bdac-c4dffa16155e",
      "metadata": {
        "id": "8d62a9f3-f64e-4fe7-bdac-c4dffa16155e"
      },
      "source": [
        "# Юнит 4. Детальный анализ вакансий"
      ]
    },
    {
      "cell_type": "markdown",
      "id": "93053d3d-b284-481a-9cf7-012d7014c0e0",
      "metadata": {
        "id": "93053d3d-b284-481a-9cf7-012d7014c0e0"
      },
      "source": [
        "1. Напишите запрос, который позволит узнать, сколько (cnt) вакансий в каждом регионе (area).\n",
        "Отсортируйте по количеству вакансий в порядке убывания."
      ]
    },
    {
      "cell_type": "code",
      "execution_count": 499,
      "id": "3f069da6-fdc9-4ae7-b514-fafe2675efd3",
      "metadata": {
        "id": "3f069da6-fdc9-4ae7-b514-fafe2675efd3"
      },
      "outputs": [],
      "source": [
        "# текст запроса\n",
        "query_4_1 = f\"\"\"\n",
        "    SELECT\n",
        "        a.name,\n",
        "        COUNT(*) as \"количество вакансий\"\n",
        "    FROM vacancies v\n",
        "    JOIN areas a ON v.area_id = a.id\n",
        "    GROUP BY a.name\n",
        "    ORDER BY COUNT(*) DESC\n",
        "\"\"\""
      ]
    },
    {
      "cell_type": "code",
      "execution_count": 500,
      "id": "P7QL86hrjhRJ",
      "metadata": {
        "id": "P7QL86hrjhRJ"
      },
      "outputs": [
        {
          "data": {
            "text/html": [
              "<div>\n",
              "<style scoped>\n",
              "    .dataframe tbody tr th:only-of-type {\n",
              "        vertical-align: middle;\n",
              "    }\n",
              "\n",
              "    .dataframe tbody tr th {\n",
              "        vertical-align: top;\n",
              "    }\n",
              "\n",
              "    .dataframe thead th {\n",
              "        text-align: right;\n",
              "    }\n",
              "</style>\n",
              "<table border=\"1\" class=\"dataframe\">\n",
              "  <thead>\n",
              "    <tr style=\"text-align: right;\">\n",
              "      <th></th>\n",
              "      <th>name</th>\n",
              "      <th>количество вакансий</th>\n",
              "    </tr>\n",
              "  </thead>\n",
              "  <tbody>\n",
              "    <tr>\n",
              "      <th>0</th>\n",
              "      <td>Москва</td>\n",
              "      <td>5333</td>\n",
              "    </tr>\n",
              "    <tr>\n",
              "      <th>1</th>\n",
              "      <td>Санкт-Петербург</td>\n",
              "      <td>2851</td>\n",
              "    </tr>\n",
              "    <tr>\n",
              "      <th>2</th>\n",
              "      <td>Минск</td>\n",
              "      <td>2112</td>\n",
              "    </tr>\n",
              "    <tr>\n",
              "      <th>3</th>\n",
              "      <td>Новосибирск</td>\n",
              "      <td>2006</td>\n",
              "    </tr>\n",
              "    <tr>\n",
              "      <th>4</th>\n",
              "      <td>Алматы</td>\n",
              "      <td>1892</td>\n",
              "    </tr>\n",
              "    <tr>\n",
              "      <th>...</th>\n",
              "      <td>...</td>\n",
              "      <td>...</td>\n",
              "    </tr>\n",
              "    <tr>\n",
              "      <th>764</th>\n",
              "      <td>Тарко-Сале</td>\n",
              "      <td>1</td>\n",
              "    </tr>\n",
              "    <tr>\n",
              "      <th>765</th>\n",
              "      <td>Новоаннинский</td>\n",
              "      <td>1</td>\n",
              "    </tr>\n",
              "    <tr>\n",
              "      <th>766</th>\n",
              "      <td>Бирск</td>\n",
              "      <td>1</td>\n",
              "    </tr>\n",
              "    <tr>\n",
              "      <th>767</th>\n",
              "      <td>Сасово</td>\n",
              "      <td>1</td>\n",
              "    </tr>\n",
              "    <tr>\n",
              "      <th>768</th>\n",
              "      <td>Анна</td>\n",
              "      <td>1</td>\n",
              "    </tr>\n",
              "  </tbody>\n",
              "</table>\n",
              "<p>769 rows × 2 columns</p>\n",
              "</div>"
            ],
            "text/plain": [
              "                name  количество вакансий\n",
              "0             Москва                 5333\n",
              "1    Санкт-Петербург                 2851\n",
              "2              Минск                 2112\n",
              "3        Новосибирск                 2006\n",
              "4             Алматы                 1892\n",
              "..               ...                  ...\n",
              "764       Тарко-Сале                    1\n",
              "765    Новоаннинский                    1\n",
              "766            Бирск                    1\n",
              "767           Сасово                    1\n",
              "768             Анна                    1\n",
              "\n",
              "[769 rows x 2 columns]"
            ]
          },
          "metadata": {},
          "output_type": "display_data"
        }
      ],
      "source": [
        "# результат запроса\n",
        "df = pd.read_sql_query(query_4_1, connection)\n",
        "display(df)"
      ]
    },
    {
      "cell_type": "markdown",
      "id": "4266f0b6-1646-492a-88b4-2f6a46502135",
      "metadata": {
        "id": "4266f0b6-1646-492a-88b4-2f6a46502135"
      },
      "source": [
        "2. Напишите запрос, чтобы определить у какого количества вакансий заполнено хотя бы одно из двух полей с зарплатой."
      ]
    },
    {
      "cell_type": "code",
      "execution_count": 501,
      "id": "0c44b350-72eb-4d65-8b54-a1fc449ba9fd",
      "metadata": {
        "id": "0c44b350-72eb-4d65-8b54-a1fc449ba9fd"
      },
      "outputs": [],
      "source": [
        "# текст запроса\n",
        "query_4_2 = f\"\"\"\n",
        "    SELECT\n",
        "        COUNT(*)\n",
        "    FROM vacancies\n",
        "    WHERE salary_to is not NULL OR salary_from is not NULL --используем оператор \"ИЛИ\"\n",
        "\"\"\""
      ]
    },
    {
      "cell_type": "code",
      "execution_count": 502,
      "id": "rhvwaMDkoWTi",
      "metadata": {
        "id": "rhvwaMDkoWTi"
      },
      "outputs": [
        {
          "name": "stdout",
          "output_type": "stream",
          "text": [
            "Table query_4_2: Число вакансий, где заполненно хотя бы одно из полей с зарплатой.\n"
          ]
        },
        {
          "data": {
            "text/html": [
              "<div>\n",
              "<style scoped>\n",
              "    .dataframe tbody tr th:only-of-type {\n",
              "        vertical-align: middle;\n",
              "    }\n",
              "\n",
              "    .dataframe tbody tr th {\n",
              "        vertical-align: top;\n",
              "    }\n",
              "\n",
              "    .dataframe thead th {\n",
              "        text-align: right;\n",
              "    }\n",
              "</style>\n",
              "<table border=\"1\" class=\"dataframe\">\n",
              "  <thead>\n",
              "    <tr style=\"text-align: right;\">\n",
              "      <th></th>\n",
              "      <th>count</th>\n",
              "    </tr>\n",
              "  </thead>\n",
              "  <tbody>\n",
              "    <tr>\n",
              "      <th>0</th>\n",
              "      <td>24073</td>\n",
              "    </tr>\n",
              "  </tbody>\n",
              "</table>\n",
              "</div>"
            ],
            "text/plain": [
              "   count\n",
              "0  24073"
            ]
          },
          "metadata": {},
          "output_type": "display_data"
        }
      ],
      "source": [
        "# результат запроса\n",
        "df = pd.read_sql_query(query_4_2, connection)\n",
        "print(\"Table query_4_2: Число вакансий, где заполненно хотя бы одно из полей с зарплатой.\")\n",
        "display(df)"
      ]
    },
    {
      "cell_type": "markdown",
      "id": "635c4d5d-f323-4c66-b428-50a088120aa0",
      "metadata": {
        "id": "635c4d5d-f323-4c66-b428-50a088120aa0"
      },
      "source": [
        "3. Найдите средние значения для нижней и верхней границы зарплатной вилки. Округлите значения до целого."
      ]
    },
    {
      "cell_type": "code",
      "execution_count": 503,
      "id": "603cdbe4-0ec3-4106-8eaf-c73fcdd29165",
      "metadata": {
        "id": "603cdbe4-0ec3-4106-8eaf-c73fcdd29165"
      },
      "outputs": [],
      "source": [
        "# текст запроса\n",
        "query_4_3 = f\"\"\"\n",
        "    SELECT\n",
        "        round(AVG(salary_from)) as avg_salary_from, \n",
        "        round(AVG(salary_to)) as avg_salary_to\n",
        "    FROM vacancies\n",
        "    WHERE salary_to is not NULL OR salary_from is not NULL\n",
        "\"\"\""
      ]
    },
    {
      "cell_type": "code",
      "execution_count": 504,
      "id": "pswpAb66ovZZ",
      "metadata": {
        "id": "pswpAb66ovZZ"
      },
      "outputs": [
        {
          "name": "stdout",
          "output_type": "stream",
          "text": [
            "Средние значения зарплатной вилки.\n"
          ]
        },
        {
          "data": {
            "text/html": [
              "<div>\n",
              "<style scoped>\n",
              "    .dataframe tbody tr th:only-of-type {\n",
              "        vertical-align: middle;\n",
              "    }\n",
              "\n",
              "    .dataframe tbody tr th {\n",
              "        vertical-align: top;\n",
              "    }\n",
              "\n",
              "    .dataframe thead th {\n",
              "        text-align: right;\n",
              "    }\n",
              "</style>\n",
              "<table border=\"1\" class=\"dataframe\">\n",
              "  <thead>\n",
              "    <tr style=\"text-align: right;\">\n",
              "      <th></th>\n",
              "      <th>avg_salary_from</th>\n",
              "      <th>avg_salary_to</th>\n",
              "    </tr>\n",
              "  </thead>\n",
              "  <tbody>\n",
              "    <tr>\n",
              "      <th>0</th>\n",
              "      <td>71065.0</td>\n",
              "      <td>110537.0</td>\n",
              "    </tr>\n",
              "  </tbody>\n",
              "</table>\n",
              "</div>"
            ],
            "text/plain": [
              "   avg_salary_from  avg_salary_to\n",
              "0          71065.0       110537.0"
            ]
          },
          "metadata": {},
          "output_type": "display_data"
        }
      ],
      "source": [
        "# результат запроса\n",
        "df = pd.read_sql_query(query_4_3, connection)\n",
        "print(\"Средние значения зарплатной вилки.\")\n",
        "display(df)"
      ]
    },
    {
      "cell_type": "markdown",
      "id": "f3fdaec9-5fd3-4260-9cf5-1d7406b628a5",
      "metadata": {
        "id": "f3fdaec9-5fd3-4260-9cf5-1d7406b628a5"
      },
      "source": [
        "4. Напишите запрос, который выведет количество вакансий для каждого сочетания типа рабочего графика (schedule) и типа трудоустройства (employment), используемого в вакансиях. Результат отсортируйте по убыванию количества.\n"
      ]
    },
    {
      "cell_type": "code",
      "execution_count": 505,
      "id": "1ea710ec-871b-431e-9462-c7d0fd87011b",
      "metadata": {
        "id": "1ea710ec-871b-431e-9462-c7d0fd87011b"
      },
      "outputs": [],
      "source": [
        "# текст запроса\n",
        "query_4_4 = f\"\"\"\n",
        "    SELECT\n",
        "        schedule,\n",
        "        employment,\n",
        "        COUNT(*) as count\n",
        "    FROM vacancies\n",
        "    GROUP BY schedule, employment -- Позволит вывести сочетания графиков и типов трудоустройства\n",
        "    ORDER BY COUNT(*) DESC\n",
        "\"\"\""
      ]
    },
    {
      "cell_type": "code",
      "execution_count": 506,
      "id": "lGUVqavdo4JQ",
      "metadata": {
        "id": "lGUVqavdo4JQ"
      },
      "outputs": [
        {
          "name": "stdout",
          "output_type": "stream",
          "text": [
            "Таблица сочетания типов рабочего графика и типа трудоустройства\n"
          ]
        },
        {
          "data": {
            "text/html": [
              "<div>\n",
              "<style scoped>\n",
              "    .dataframe tbody tr th:only-of-type {\n",
              "        vertical-align: middle;\n",
              "    }\n",
              "\n",
              "    .dataframe tbody tr th {\n",
              "        vertical-align: top;\n",
              "    }\n",
              "\n",
              "    .dataframe thead th {\n",
              "        text-align: right;\n",
              "    }\n",
              "</style>\n",
              "<table border=\"1\" class=\"dataframe\">\n",
              "  <thead>\n",
              "    <tr style=\"text-align: right;\">\n",
              "      <th></th>\n",
              "      <th>schedule</th>\n",
              "      <th>employment</th>\n",
              "      <th>count</th>\n",
              "    </tr>\n",
              "  </thead>\n",
              "  <tbody>\n",
              "    <tr>\n",
              "      <th>0</th>\n",
              "      <td>Полный день</td>\n",
              "      <td>Полная занятость</td>\n",
              "      <td>35367</td>\n",
              "    </tr>\n",
              "    <tr>\n",
              "      <th>1</th>\n",
              "      <td>Удаленная работа</td>\n",
              "      <td>Полная занятость</td>\n",
              "      <td>7802</td>\n",
              "    </tr>\n",
              "    <tr>\n",
              "      <th>2</th>\n",
              "      <td>Гибкий график</td>\n",
              "      <td>Полная занятость</td>\n",
              "      <td>1593</td>\n",
              "    </tr>\n",
              "    <tr>\n",
              "      <th>3</th>\n",
              "      <td>Удаленная работа</td>\n",
              "      <td>Частичная занятость</td>\n",
              "      <td>1312</td>\n",
              "    </tr>\n",
              "    <tr>\n",
              "      <th>4</th>\n",
              "      <td>Сменный график</td>\n",
              "      <td>Полная занятость</td>\n",
              "      <td>940</td>\n",
              "    </tr>\n",
              "    <tr>\n",
              "      <th>5</th>\n",
              "      <td>Полный день</td>\n",
              "      <td>Стажировка</td>\n",
              "      <td>569</td>\n",
              "    </tr>\n",
              "    <tr>\n",
              "      <th>6</th>\n",
              "      <td>Вахтовый метод</td>\n",
              "      <td>Полная занятость</td>\n",
              "      <td>367</td>\n",
              "    </tr>\n",
              "    <tr>\n",
              "      <th>7</th>\n",
              "      <td>Полный день</td>\n",
              "      <td>Частичная занятость</td>\n",
              "      <td>347</td>\n",
              "    </tr>\n",
              "    <tr>\n",
              "      <th>8</th>\n",
              "      <td>Гибкий график</td>\n",
              "      <td>Частичная занятость</td>\n",
              "      <td>312</td>\n",
              "    </tr>\n",
              "    <tr>\n",
              "      <th>9</th>\n",
              "      <td>Полный день</td>\n",
              "      <td>Проектная работа</td>\n",
              "      <td>141</td>\n",
              "    </tr>\n",
              "    <tr>\n",
              "      <th>10</th>\n",
              "      <td>Удаленная работа</td>\n",
              "      <td>Проектная работа</td>\n",
              "      <td>133</td>\n",
              "    </tr>\n",
              "    <tr>\n",
              "      <th>11</th>\n",
              "      <td>Гибкий график</td>\n",
              "      <td>Стажировка</td>\n",
              "      <td>116</td>\n",
              "    </tr>\n",
              "    <tr>\n",
              "      <th>12</th>\n",
              "      <td>Сменный график</td>\n",
              "      <td>Частичная занятость</td>\n",
              "      <td>101</td>\n",
              "    </tr>\n",
              "    <tr>\n",
              "      <th>13</th>\n",
              "      <td>Удаленная работа</td>\n",
              "      <td>Стажировка</td>\n",
              "      <td>64</td>\n",
              "    </tr>\n",
              "    <tr>\n",
              "      <th>14</th>\n",
              "      <td>Гибкий график</td>\n",
              "      <td>Проектная работа</td>\n",
              "      <td>18</td>\n",
              "    </tr>\n",
              "    <tr>\n",
              "      <th>15</th>\n",
              "      <td>Сменный график</td>\n",
              "      <td>Стажировка</td>\n",
              "      <td>12</td>\n",
              "    </tr>\n",
              "    <tr>\n",
              "      <th>16</th>\n",
              "      <td>Вахтовый метод</td>\n",
              "      <td>Проектная работа</td>\n",
              "      <td>2</td>\n",
              "    </tr>\n",
              "    <tr>\n",
              "      <th>17</th>\n",
              "      <td>Сменный график</td>\n",
              "      <td>Проектная работа</td>\n",
              "      <td>1</td>\n",
              "    </tr>\n",
              "  </tbody>\n",
              "</table>\n",
              "</div>"
            ],
            "text/plain": [
              "            schedule           employment  count\n",
              "0        Полный день     Полная занятость  35367\n",
              "1   Удаленная работа     Полная занятость   7802\n",
              "2      Гибкий график     Полная занятость   1593\n",
              "3   Удаленная работа  Частичная занятость   1312\n",
              "4     Сменный график     Полная занятость    940\n",
              "5        Полный день           Стажировка    569\n",
              "6     Вахтовый метод     Полная занятость    367\n",
              "7        Полный день  Частичная занятость    347\n",
              "8      Гибкий график  Частичная занятость    312\n",
              "9        Полный день     Проектная работа    141\n",
              "10  Удаленная работа     Проектная работа    133\n",
              "11     Гибкий график           Стажировка    116\n",
              "12    Сменный график  Частичная занятость    101\n",
              "13  Удаленная работа           Стажировка     64\n",
              "14     Гибкий график     Проектная работа     18\n",
              "15    Сменный график           Стажировка     12\n",
              "16    Вахтовый метод     Проектная работа      2\n",
              "17    Сменный график     Проектная работа      1"
            ]
          },
          "metadata": {},
          "output_type": "display_data"
        }
      ],
      "source": [
        "# результат запроса\n",
        "df = pd.read_sql_query(query_4_4, connection)\n",
        "print(\"Таблица сочетания типов рабочего графика и типа трудоустройства\")\n",
        "display(df)"
      ]
    },
    {
      "cell_type": "code",
      "execution_count": 507,
      "id": "e895557b",
      "metadata": {},
      "outputs": [],
      "source": [
        "#визуализируем данную таблицу\n",
        "table = df.pivot_table(\n",
        "    values='count',\n",
        "    columns='employment',\n",
        "    index='schedule',\n",
        "    fill_value=0\n",
        ")"
      ]
    },
    {
      "cell_type": "code",
      "execution_count": 508,
      "id": "f266a01d",
      "metadata": {},
      "outputs": [
        {
          "data": {
            "image/png": "[encoded data removed]",
            "text/plain": [
              "<Figure size 432x288 with 2 Axes>"
            ]
          },
          "metadata": {
            "needs_background": "light"
          },
          "output_type": "display_data"
        }
      ],
      "source": [
        "heatmap = sns.heatmap(data = table,cmap='YlGnBu')\n",
        "heatmap.set_title(\"Тепловая карта типа занятости и графика работы\")\n",
        "pass"
      ]
    },
    {
      "cell_type": "markdown",
      "id": "0136ffee-0ead-4a6b-b608-61d1c753a438",
      "metadata": {
        "id": "0136ffee-0ead-4a6b-b608-61d1c753a438"
      },
      "source": [
        "5. Напишите запрос, выводящий значения поля Требуемый опыт работы (experience) в порядке возрастания количества вакансий, в которых указан данный вариант опыта. "
      ]
    },
    {
      "cell_type": "code",
      "execution_count": 509,
      "id": "5b3a8e79-f7ab-4008-b767-12aea3a205ea",
      "metadata": {
        "id": "5b3a8e79-f7ab-4008-b767-12aea3a205ea"
      },
      "outputs": [],
      "source": [
        "# текст запроса\n",
        "query_4_5 = f\"\"\" \n",
        "    SELECT \n",
        "        experience,\n",
        "        COUNT(*)\n",
        "    FROM vacancies\n",
        "    GROUP BY experience --сгруппируем по опыту\n",
        "    ORDER BY COUNT(*)\n",
        "\"\"\""
      ]
    },
    {
      "cell_type": "code",
      "execution_count": 510,
      "id": "3Is64Y-hpDpq",
      "metadata": {
        "id": "3Is64Y-hpDpq"
      },
      "outputs": [
        {
          "name": "stdout",
          "output_type": "stream",
          "text": [
            "Таблица числа вакансий от опыта работы\n"
          ]
        },
        {
          "data": {
            "text/html": [
              "<div>\n",
              "<style scoped>\n",
              "    .dataframe tbody tr th:only-of-type {\n",
              "        vertical-align: middle;\n",
              "    }\n",
              "\n",
              "    .dataframe tbody tr th {\n",
              "        vertical-align: top;\n",
              "    }\n",
              "\n",
              "    .dataframe thead th {\n",
              "        text-align: right;\n",
              "    }\n",
              "</style>\n",
              "<table border=\"1\" class=\"dataframe\">\n",
              "  <thead>\n",
              "    <tr style=\"text-align: right;\">\n",
              "      <th></th>\n",
              "      <th>experience</th>\n",
              "      <th>count</th>\n",
              "    </tr>\n",
              "  </thead>\n",
              "  <tbody>\n",
              "    <tr>\n",
              "      <th>0</th>\n",
              "      <td>Более 6 лет</td>\n",
              "      <td>1337</td>\n",
              "    </tr>\n",
              "    <tr>\n",
              "      <th>1</th>\n",
              "      <td>Нет опыта</td>\n",
              "      <td>7197</td>\n",
              "    </tr>\n",
              "    <tr>\n",
              "      <th>2</th>\n",
              "      <td>От 3 до 6 лет</td>\n",
              "      <td>14511</td>\n",
              "    </tr>\n",
              "    <tr>\n",
              "      <th>3</th>\n",
              "      <td>От 1 года до 3 лет</td>\n",
              "      <td>26152</td>\n",
              "    </tr>\n",
              "  </tbody>\n",
              "</table>\n",
              "</div>"
            ],
            "text/plain": [
              "           experience  count\n",
              "0         Более 6 лет   1337\n",
              "1           Нет опыта   7197\n",
              "2       От 3 до 6 лет  14511\n",
              "3  От 1 года до 3 лет  26152"
            ]
          },
          "metadata": {},
          "output_type": "display_data"
        },
        {
          "name": "stdout",
          "output_type": "stream",
          "text": [
            "Таблица зарплатной вилки от опыта работы\n"
          ]
        },
        {
          "data": {
            "text/html": [
              "<div>\n",
              "<style scoped>\n",
              "    .dataframe tbody tr th:only-of-type {\n",
              "        vertical-align: middle;\n",
              "    }\n",
              "\n",
              "    .dataframe tbody tr th {\n",
              "        vertical-align: top;\n",
              "    }\n",
              "\n",
              "    .dataframe thead th {\n",
              "        text-align: right;\n",
              "    }\n",
              "</style>\n",
              "<table border=\"1\" class=\"dataframe\">\n",
              "  <thead>\n",
              "    <tr style=\"text-align: right;\">\n",
              "      <th></th>\n",
              "      <th>experience</th>\n",
              "      <th>avg_salary_from</th>\n",
              "      <th>avg_salary_to</th>\n",
              "    </tr>\n",
              "  </thead>\n",
              "  <tbody>\n",
              "    <tr>\n",
              "      <th>0</th>\n",
              "      <td>Более 6 лет</td>\n",
              "      <td>150156.0</td>\n",
              "      <td>197819.0</td>\n",
              "    </tr>\n",
              "    <tr>\n",
              "      <th>1</th>\n",
              "      <td>Нет опыта</td>\n",
              "      <td>34699.0</td>\n",
              "      <td>56990.0</td>\n",
              "    </tr>\n",
              "    <tr>\n",
              "      <th>2</th>\n",
              "      <td>От 3 до 6 лет</td>\n",
              "      <td>112544.0</td>\n",
              "      <td>171974.0</td>\n",
              "    </tr>\n",
              "    <tr>\n",
              "      <th>3</th>\n",
              "      <td>От 1 года до 3 лет</td>\n",
              "      <td>64456.0</td>\n",
              "      <td>97436.0</td>\n",
              "    </tr>\n",
              "  </tbody>\n",
              "</table>\n",
              "</div>"
            ],
            "text/plain": [
              "           experience  avg_salary_from  avg_salary_to\n",
              "0         Более 6 лет         150156.0       197819.0\n",
              "1           Нет опыта          34699.0        56990.0\n",
              "2       От 3 до 6 лет         112544.0       171974.0\n",
              "3  От 1 года до 3 лет          64456.0        97436.0"
            ]
          },
          "metadata": {},
          "output_type": "display_data"
        }
      ],
      "source": [
        "# результат запроса\n",
        "df = pd.read_sql_query(query_4_5, connection)\n",
        "print(\"Таблица числа вакансий от опыта работы\")\n",
        "display(df)\n",
        "\n",
        "# посмотрим влияние опыта на зарплатную вилку\n",
        "query = f\"\"\" \n",
        "    SELECT \n",
        "        experience,\n",
        "        round(AVG(salary_from)) as avg_salary_from,\n",
        "        round(AVG(salary_to)) as avg_salary_to\n",
        "    FROM vacancies\n",
        "    GROUP BY experience\n",
        "    ORDER BY COUNT(*)\n",
        "\"\"\"\n",
        "df = pd.read_sql_query(query, connection)\n",
        "print(\"Таблица зарплатной вилки от опыта работы\")\n",
        "display(df)"
      ]
    },
    {
      "cell_type": "markdown",
      "id": "oq2b7n1QpIka",
      "metadata": {
        "id": "oq2b7n1QpIka"
      },
      "source": [
        "***"
      ]
    },
    {
      "attachments": {},
      "cell_type": "markdown",
      "id": "e91f87ed-e25c-4f96-9f92-b642e8c0b4fa",
      "metadata": {
        "id": "e91f87ed-e25c-4f96-9f92-b642e8c0b4fa"
      },
      "source": [
        "# Выводы по детальному анализу вакансий\n",
        "- По нашим данным мы видим, что в ТОП-5 городов по числу вакансий находится 3 столицы и 2 города-миллионника, что вполне ожидаемо. Замыкают таблицу рейтинга городов по числу вакансий малоизветсные населенные пункты.\n",
        "- Лишь в половине вакансий содержатся сведения о зарплате. Вакансии без зарплат навряд ли смогут помочь в прогнозировании заработных плат, так что скорее всего в случае построении модели прогнозирования ЗП, почти половины базы будет не задействована.\n",
        "- Средние значения зарплатных вилок довольно высокие и выше, чем средние по стране. Это говорит о том, что в базе \"слабо\" представлен низкооплачиваемый неквалифицированный труд (можно например проверить число вакансий - 'грузчик', вполне вероятно, что их либо нет, либо их очень мало).\n",
        "- Наиболее популярный тип графика и тип трудоустройства вполне ожидаемо является \"полная занятость\" - \"полный рабочий день\", на втором месте \"полная занятость\" - \"удаленная работа\" - что может нам подсказать, что база собрана после 2020 года скорее всего, так как удаленная работа набрала популярность во время пандемии (хотя время размещения вакансий нигде не указано). \n",
        "- Реже всего работодатели ищут соискателей с опытом работы более 6 лет, скорее всего это очень узкие специалисты в своих областях или управляющие позиции, которые руководят командами, то есть их по определению не может быть много. Далее идут вакансии без опыта, скорее всего это рискованные кандидаты для работодателей, так как их еще нужно дообучать.\n",
        "- Чаще всего работодатели ищут людей с опытом от 1 года до 3 лет, это можно объяснить благодаря таблице с зарплатными вилками. Это уже кадры с опытом, но еще с не такой высокой заработной платой как у кандидатов с большим опытом.\n"
      ]
    },
    {
      "cell_type": "markdown",
      "id": "7ea20ab6-04a7-40a0-adec-443a0e5a42c3",
      "metadata": {
        "id": "7ea20ab6-04a7-40a0-adec-443a0e5a42c3"
      },
      "source": [
        "# Юнит 5. Анализ работодателей"
      ]
    },
    {
      "cell_type": "markdown",
      "id": "968aed80-74ef-4ffb-b5bf-c65b84e9caea",
      "metadata": {
        "id": "968aed80-74ef-4ffb-b5bf-c65b84e9caea"
      },
      "source": [
        "1. Напишите запрос, который позволит узнать, какие работодатели находятся на первом и пятом месте по количеству вакансий."
      ]
    },
    {
      "cell_type": "code",
      "execution_count": 511,
      "id": "f2d62796-d400-4ec1-a675-88112739a50e",
      "metadata": {
        "id": "f2d62796-d400-4ec1-a675-88112739a50e"
      },
      "outputs": [],
      "source": [
        "# текст запроса\n",
        "query_5_1 = f\"\"\" \n",
        "    (SELECT \n",
        "        e.name,\n",
        "        COUNT(*) \n",
        "    FROM vacancies v\n",
        "    JOIN employers e ON v.employer_id = e.id\n",
        "    GROUP BY e.name\n",
        "    ORDER BY COUNT(*) DESC\n",
        "    LIMIT 1)\n",
        "    \n",
        "    UNION ALL\n",
        "    \n",
        "    (SELECT \n",
        "        e.name,\n",
        "        COUNT(*) \n",
        "    FROM vacancies v\n",
        "    JOIN employers e ON v.employer_id = e.id\n",
        "    GROUP BY e.name\n",
        "    ORDER BY COUNT(*) DESC\n",
        "    OFFSET 4\n",
        "    LIMIT 1)\n",
        "\"\"\""
      ]
    },
    {
      "cell_type": "code",
      "execution_count": 512,
      "id": "64tOMkAxqkQk",
      "metadata": {
        "id": "64tOMkAxqkQk"
      },
      "outputs": [
        {
          "name": "stdout",
          "output_type": "stream",
          "text": [
            "Table query_5_1\n"
          ]
        },
        {
          "data": {
            "text/html": [
              "<div>\n",
              "<style scoped>\n",
              "    .dataframe tbody tr th:only-of-type {\n",
              "        vertical-align: middle;\n",
              "    }\n",
              "\n",
              "    .dataframe tbody tr th {\n",
              "        vertical-align: top;\n",
              "    }\n",
              "\n",
              "    .dataframe thead th {\n",
              "        text-align: right;\n",
              "    }\n",
              "</style>\n",
              "<table border=\"1\" class=\"dataframe\">\n",
              "  <thead>\n",
              "    <tr style=\"text-align: right;\">\n",
              "      <th></th>\n",
              "      <th>name</th>\n",
              "      <th>count</th>\n",
              "    </tr>\n",
              "  </thead>\n",
              "  <tbody>\n",
              "    <tr>\n",
              "      <th>0</th>\n",
              "      <td>Яндекс</td>\n",
              "      <td>1933</td>\n",
              "    </tr>\n",
              "    <tr>\n",
              "      <th>1</th>\n",
              "      <td>Газпром нефть</td>\n",
              "      <td>331</td>\n",
              "    </tr>\n",
              "  </tbody>\n",
              "</table>\n",
              "</div>"
            ],
            "text/plain": [
              "            name  count\n",
              "0         Яндекс   1933\n",
              "1  Газпром нефть    331"
            ]
          },
          "metadata": {},
          "output_type": "display_data"
        },
        {
          "name": "stdout",
          "output_type": "stream",
          "text": [
            "Топ-5 компаний по числу вакансий\n"
          ]
        },
        {
          "data": {
            "text/html": [
              "<div>\n",
              "<style scoped>\n",
              "    .dataframe tbody tr th:only-of-type {\n",
              "        vertical-align: middle;\n",
              "    }\n",
              "\n",
              "    .dataframe tbody tr th {\n",
              "        vertical-align: top;\n",
              "    }\n",
              "\n",
              "    .dataframe thead th {\n",
              "        text-align: right;\n",
              "    }\n",
              "</style>\n",
              "<table border=\"1\" class=\"dataframe\">\n",
              "  <thead>\n",
              "    <tr style=\"text-align: right;\">\n",
              "      <th></th>\n",
              "      <th>name</th>\n",
              "      <th>count</th>\n",
              "    </tr>\n",
              "  </thead>\n",
              "  <tbody>\n",
              "    <tr>\n",
              "      <th>0</th>\n",
              "      <td>Яндекс</td>\n",
              "      <td>1933</td>\n",
              "    </tr>\n",
              "    <tr>\n",
              "      <th>1</th>\n",
              "      <td>Ростелеком</td>\n",
              "      <td>491</td>\n",
              "    </tr>\n",
              "    <tr>\n",
              "      <th>2</th>\n",
              "      <td>Тинькофф</td>\n",
              "      <td>444</td>\n",
              "    </tr>\n",
              "    <tr>\n",
              "      <th>3</th>\n",
              "      <td>СБЕР</td>\n",
              "      <td>428</td>\n",
              "    </tr>\n",
              "    <tr>\n",
              "      <th>4</th>\n",
              "      <td>Газпром нефть</td>\n",
              "      <td>331</td>\n",
              "    </tr>\n",
              "  </tbody>\n",
              "</table>\n",
              "</div>"
            ],
            "text/plain": [
              "            name  count\n",
              "0         Яндекс   1933\n",
              "1     Ростелеком    491\n",
              "2       Тинькофф    444\n",
              "3           СБЕР    428\n",
              "4  Газпром нефть    331"
            ]
          },
          "metadata": {},
          "output_type": "display_data"
        }
      ],
      "source": [
        "# результат запроса\n",
        "df = pd.read_sql_query(query_5_1, connection)\n",
        "print(\"Table query_5_1\")\n",
        "display(df)\n",
        "\n",
        "query = f\"\"\" \n",
        "    (SELECT \n",
        "        e.name,\n",
        "        COUNT(*) \n",
        "    FROM vacancies v\n",
        "    JOIN employers e ON v.employer_id = e.id\n",
        "    GROUP BY e.name\n",
        "    ORDER BY COUNT(*) DESC\n",
        "    LIMIT 5)\n",
        "\"\"\"\n",
        "df = pd.read_sql_query(query, connection)\n",
        "print(\"Топ-5 компаний по числу вакансий\")\n",
        "display(df)"
      ]
    },
    {
      "cell_type": "markdown",
      "id": "68377cfc-b378-43dc-ab7d-1195abf2c515",
      "metadata": {
        "id": "68377cfc-b378-43dc-ab7d-1195abf2c515"
      },
      "source": [
        "2. Напишите запрос, который для каждого региона выведет количество работодателей и вакансий в нём.\n",
        "Среди регионов, в которых нет вакансий, найдите тот, в котором наибольшее количество работодателей.\n"
      ]
    },
    {
      "cell_type": "code",
      "execution_count": 513,
      "id": "dd7df27a-e3e8-412e-a21a-5d389b71e891",
      "metadata": {
        "id": "dd7df27a-e3e8-412e-a21a-5d389b71e891"
      },
      "outputs": [],
      "source": [
        "# текст запроса\n",
        "query_5_2 = f\"\"\" \n",
        "    SELECT\n",
        "        a.name as area,\n",
        "        count(e.id) as cnt_e,\n",
        "        count(v.id) as cnt_v\n",
        "    FROM public.areas a\n",
        "    LEFT JOIN vacancies v ON v.area_id = a.id\n",
        "    LEFT JOIN employers e ON e.area = a.id\n",
        "    GROUP BY a.name\n",
        "    HAVING count(v.id) = 0\n",
        "    ORDER BY count(e.id) DESC\n",
        "\"\"\""
      ]
    },
    {
      "cell_type": "code",
      "execution_count": 514,
      "id": "x1ikWbydrbf6",
      "metadata": {
        "id": "x1ikWbydrbf6"
      },
      "outputs": [
        {
          "data": {
            "text/html": [
              "<div>\n",
              "<style scoped>\n",
              "    .dataframe tbody tr th:only-of-type {\n",
              "        vertical-align: middle;\n",
              "    }\n",
              "\n",
              "    .dataframe tbody tr th {\n",
              "        vertical-align: top;\n",
              "    }\n",
              "\n",
              "    .dataframe thead th {\n",
              "        text-align: right;\n",
              "    }\n",
              "</style>\n",
              "<table border=\"1\" class=\"dataframe\">\n",
              "  <thead>\n",
              "    <tr style=\"text-align: right;\">\n",
              "      <th></th>\n",
              "      <th>area</th>\n",
              "      <th>cnt_e</th>\n",
              "      <th>cnt_v</th>\n",
              "    </tr>\n",
              "  </thead>\n",
              "  <tbody>\n",
              "    <tr>\n",
              "      <th>0</th>\n",
              "      <td>Россия</td>\n",
              "      <td>410</td>\n",
              "      <td>0</td>\n",
              "    </tr>\n",
              "    <tr>\n",
              "      <th>1</th>\n",
              "      <td>Казахстан</td>\n",
              "      <td>207</td>\n",
              "      <td>0</td>\n",
              "    </tr>\n",
              "    <tr>\n",
              "      <th>2</th>\n",
              "      <td>Московская область</td>\n",
              "      <td>75</td>\n",
              "      <td>0</td>\n",
              "    </tr>\n",
              "    <tr>\n",
              "      <th>3</th>\n",
              "      <td>Краснодарский край</td>\n",
              "      <td>19</td>\n",
              "      <td>0</td>\n",
              "    </tr>\n",
              "    <tr>\n",
              "      <th>4</th>\n",
              "      <td>Ростовская область</td>\n",
              "      <td>18</td>\n",
              "      <td>0</td>\n",
              "    </tr>\n",
              "    <tr>\n",
              "      <th>...</th>\n",
              "      <td>...</td>\n",
              "      <td>...</td>\n",
              "      <td>...</td>\n",
              "    </tr>\n",
              "    <tr>\n",
              "      <th>588</th>\n",
              "      <td>Струнино</td>\n",
              "      <td>0</td>\n",
              "      <td>0</td>\n",
              "    </tr>\n",
              "    <tr>\n",
              "      <th>589</th>\n",
              "      <td>Славгород (Алтайский край)</td>\n",
              "      <td>0</td>\n",
              "      <td>0</td>\n",
              "    </tr>\n",
              "    <tr>\n",
              "      <th>590</th>\n",
              "      <td>Сорочинск</td>\n",
              "      <td>0</td>\n",
              "      <td>0</td>\n",
              "    </tr>\n",
              "    <tr>\n",
              "      <th>591</th>\n",
              "      <td>Ленинский (Тульская область)</td>\n",
              "      <td>0</td>\n",
              "      <td>0</td>\n",
              "    </tr>\n",
              "    <tr>\n",
              "      <th>592</th>\n",
              "      <td>Тавда</td>\n",
              "      <td>0</td>\n",
              "      <td>0</td>\n",
              "    </tr>\n",
              "  </tbody>\n",
              "</table>\n",
              "<p>593 rows × 3 columns</p>\n",
              "</div>"
            ],
            "text/plain": [
              "                             area  cnt_e  cnt_v\n",
              "0                          Россия    410      0\n",
              "1                       Казахстан    207      0\n",
              "2              Московская область     75      0\n",
              "3              Краснодарский край     19      0\n",
              "4              Ростовская область     18      0\n",
              "..                            ...    ...    ...\n",
              "588                      Струнино      0      0\n",
              "589    Славгород (Алтайский край)      0      0\n",
              "590                     Сорочинск      0      0\n",
              "591  Ленинский (Тульская область)      0      0\n",
              "592                         Тавда      0      0\n",
              "\n",
              "[593 rows x 3 columns]"
            ]
          },
          "metadata": {},
          "output_type": "display_data"
        },
        {
          "name": "stdout",
          "output_type": "stream",
          "text": [
            "Плохой по скорости запрос\n"
          ]
        }
      ],
      "source": [
        "# результат запроса\n",
        "df = pd.read_sql_query(query_5_2, connection)\n",
        "display(df)\n",
        "print(\"Плохой по скорости запрос\")"
      ]
    },
    {
      "cell_type": "code",
      "execution_count": 515,
      "id": "cd9e228f",
      "metadata": {},
      "outputs": [
        {
          "data": {
            "text/html": [
              "<div>\n",
              "<style scoped>\n",
              "    .dataframe tbody tr th:only-of-type {\n",
              "        vertical-align: middle;\n",
              "    }\n",
              "\n",
              "    .dataframe tbody tr th {\n",
              "        vertical-align: top;\n",
              "    }\n",
              "\n",
              "    .dataframe thead th {\n",
              "        text-align: right;\n",
              "    }\n",
              "</style>\n",
              "<table border=\"1\" class=\"dataframe\">\n",
              "  <thead>\n",
              "    <tr style=\"text-align: right;\">\n",
              "      <th></th>\n",
              "      <th>name</th>\n",
              "      <th>cnt_vacancies</th>\n",
              "      <th>cnt_employers</th>\n",
              "    </tr>\n",
              "  </thead>\n",
              "  <tbody>\n",
              "    <tr>\n",
              "      <th>0</th>\n",
              "      <td>Россия</td>\n",
              "      <td>0</td>\n",
              "      <td>410</td>\n",
              "    </tr>\n",
              "    <tr>\n",
              "      <th>1</th>\n",
              "      <td>Казахстан</td>\n",
              "      <td>0</td>\n",
              "      <td>207</td>\n",
              "    </tr>\n",
              "    <tr>\n",
              "      <th>2</th>\n",
              "      <td>Московская область</td>\n",
              "      <td>0</td>\n",
              "      <td>75</td>\n",
              "    </tr>\n",
              "    <tr>\n",
              "      <th>3</th>\n",
              "      <td>Краснодарский край</td>\n",
              "      <td>0</td>\n",
              "      <td>19</td>\n",
              "    </tr>\n",
              "    <tr>\n",
              "      <th>4</th>\n",
              "      <td>Беларусь</td>\n",
              "      <td>0</td>\n",
              "      <td>18</td>\n",
              "    </tr>\n",
              "    <tr>\n",
              "      <th>...</th>\n",
              "      <td>...</td>\n",
              "      <td>...</td>\n",
              "      <td>...</td>\n",
              "    </tr>\n",
              "    <tr>\n",
              "      <th>588</th>\n",
              "      <td>Юрюзань</td>\n",
              "      <td>0</td>\n",
              "      <td>0</td>\n",
              "    </tr>\n",
              "    <tr>\n",
              "      <th>589</th>\n",
              "      <td>Ямбург (Ямало-Ненецкий АО)</td>\n",
              "      <td>0</td>\n",
              "      <td>0</td>\n",
              "    </tr>\n",
              "    <tr>\n",
              "      <th>590</th>\n",
              "      <td>Янино-1</td>\n",
              "      <td>0</td>\n",
              "      <td>0</td>\n",
              "    </tr>\n",
              "    <tr>\n",
              "      <th>591</th>\n",
              "      <td>Ясный (Оренбургская область)</td>\n",
              "      <td>0</td>\n",
              "      <td>0</td>\n",
              "    </tr>\n",
              "    <tr>\n",
              "      <th>592</th>\n",
              "      <td>Яшкино</td>\n",
              "      <td>0</td>\n",
              "      <td>0</td>\n",
              "    </tr>\n",
              "  </tbody>\n",
              "</table>\n",
              "<p>593 rows × 3 columns</p>\n",
              "</div>"
            ],
            "text/plain": [
              "                             name  cnt_vacancies  cnt_employers\n",
              "0                          Россия              0            410\n",
              "1                       Казахстан              0            207\n",
              "2              Московская область              0             75\n",
              "3              Краснодарский край              0             19\n",
              "4                        Беларусь              0             18\n",
              "..                            ...            ...            ...\n",
              "588                       Юрюзань              0              0\n",
              "589    Ямбург (Ямало-Ненецкий АО)              0              0\n",
              "590                       Янино-1              0              0\n",
              "591  Ясный (Оренбургская область)              0              0\n",
              "592                        Яшкино              0              0\n",
              "\n",
              "[593 rows x 3 columns]"
            ]
          },
          "metadata": {},
          "output_type": "display_data"
        },
        {
          "name": "stdout",
          "output_type": "stream",
          "text": [
            "Этот запрос значительно быстрее, так как JOIN производится по таблицам меньших размеров\n"
          ]
        }
      ],
      "source": [
        "query = \"\"\" \n",
        "\n",
        "    SELECT \n",
        "        a.name, \n",
        "        coalesce(v.count_vacancies, 0) as cnt_vacancies,\n",
        "        coalesce(e.count_employers,0) as cnt_employers\n",
        "    FROM areas a\n",
        "    LEFT JOIN (SELECT\n",
        "            area_id,\n",
        "            COUNT(*) as count_vacancies\n",
        "        FROM vacancies\n",
        "        GROUP BY area_id\n",
        "    ) as v ON a.id = v.area_id\n",
        "    LEFT JOIN (SELECT\n",
        "            area,\n",
        "            COUNT(*) as count_employers\n",
        "        FROM employers\n",
        "        GROUP BY area\n",
        "    ) as e ON e.area = a.id\n",
        "    -- WHERE a.name LIKE 'Россия'\n",
        "    GROUP BY a.name, cnt_vacancies, cnt_employers\n",
        "    HAVING coalesce(v.count_vacancies, 0) = 0 \n",
        "    ORDER BY coalesce(e.count_employers,0) DESC \n",
        "\"\"\"\n",
        "df = pd.read_sql_query(query, connection)\n",
        "display(df)\n",
        "print(\"Этот запрос значительно быстрее, так как JOIN производится по таблицам меньших размеров\")"
      ]
    },
    {
      "cell_type": "markdown",
      "id": "f2fe0acb-ab1a-4e15-9326-2560e22d73c1",
      "metadata": {
        "id": "f2fe0acb-ab1a-4e15-9326-2560e22d73c1"
      },
      "source": [
        "3. Для каждого работодателя посчитайте количество регионов, в которых он публикует свои вакансии. Отсортируйте результат по убыванию количества.\n"
      ]
    },
    {
      "cell_type": "code",
      "execution_count": 516,
      "id": "6271f8ad-bd2e-4196-ae4a-5b39c4c1010e",
      "metadata": {
        "id": "6271f8ad-bd2e-4196-ae4a-5b39c4c1010e"
      },
      "outputs": [],
      "source": [
        "# текст запроса\n",
        "query_5_3 = f\"\"\" \n",
        "    SELECT\n",
        "        e.name,\n",
        "        COUNT(distinct area_id) as count_area --считаем только уникальные area_id\n",
        "    FROM vacancies\n",
        "    JOIN employers e ON employer_id = e.id\n",
        "    GROUP BY e.name\n",
        "    ORDER BY COUNT(distinct area_id) DESC\n",
        "\"\"\""
      ]
    },
    {
      "cell_type": "code",
      "execution_count": 517,
      "id": "1EIvX3HasH4F",
      "metadata": {
        "id": "1EIvX3HasH4F"
      },
      "outputs": [
        {
          "data": {
            "text/html": [
              "<div>\n",
              "<style scoped>\n",
              "    .dataframe tbody tr th:only-of-type {\n",
              "        vertical-align: middle;\n",
              "    }\n",
              "\n",
              "    .dataframe tbody tr th {\n",
              "        vertical-align: top;\n",
              "    }\n",
              "\n",
              "    .dataframe thead th {\n",
              "        text-align: right;\n",
              "    }\n",
              "</style>\n",
              "<table border=\"1\" class=\"dataframe\">\n",
              "  <thead>\n",
              "    <tr style=\"text-align: right;\">\n",
              "      <th></th>\n",
              "      <th>name</th>\n",
              "      <th>count_area</th>\n",
              "    </tr>\n",
              "  </thead>\n",
              "  <tbody>\n",
              "    <tr>\n",
              "      <th>0</th>\n",
              "      <td>Яндекс</td>\n",
              "      <td>181</td>\n",
              "    </tr>\n",
              "    <tr>\n",
              "      <th>1</th>\n",
              "      <td>Ростелеком</td>\n",
              "      <td>152</td>\n",
              "    </tr>\n",
              "    <tr>\n",
              "      <th>2</th>\n",
              "      <td>Спецремонт</td>\n",
              "      <td>116</td>\n",
              "    </tr>\n",
              "    <tr>\n",
              "      <th>3</th>\n",
              "      <td>Поляков Денис Иванович</td>\n",
              "      <td>88</td>\n",
              "    </tr>\n",
              "    <tr>\n",
              "      <th>4</th>\n",
              "      <td>ООО ЕФИН</td>\n",
              "      <td>71</td>\n",
              "    </tr>\n",
              "    <tr>\n",
              "      <th>...</th>\n",
              "      <td>...</td>\n",
              "      <td>...</td>\n",
              "    </tr>\n",
              "    <tr>\n",
              "      <th>14761</th>\n",
              "      <td>UniSol</td>\n",
              "      <td>1</td>\n",
              "    </tr>\n",
              "    <tr>\n",
              "      <th>14762</th>\n",
              "      <td>UNISTORY LLC</td>\n",
              "      <td>1</td>\n",
              "    </tr>\n",
              "    <tr>\n",
              "      <th>14763</th>\n",
              "      <td>UNIT6</td>\n",
              "      <td>1</td>\n",
              "    </tr>\n",
              "    <tr>\n",
              "      <th>14764</th>\n",
              "      <td>United Distribution</td>\n",
              "      <td>1</td>\n",
              "    </tr>\n",
              "    <tr>\n",
              "      <th>14765</th>\n",
              "      <td>UNITEL LLC</td>\n",
              "      <td>1</td>\n",
              "    </tr>\n",
              "  </tbody>\n",
              "</table>\n",
              "<p>14766 rows × 2 columns</p>\n",
              "</div>"
            ],
            "text/plain": [
              "                         name  count_area\n",
              "0                      Яндекс         181\n",
              "1                  Ростелеком         152\n",
              "2                  Спецремонт         116\n",
              "3      Поляков Денис Иванович          88\n",
              "4                   ООО ЕФИН           71\n",
              "...                       ...         ...\n",
              "14761                  UniSol           1\n",
              "14762            UNISTORY LLC           1\n",
              "14763                   UNIT6           1\n",
              "14764     United Distribution           1\n",
              "14765              UNITEL LLC           1\n",
              "\n",
              "[14766 rows x 2 columns]"
            ]
          },
          "metadata": {},
          "output_type": "display_data"
        }
      ],
      "source": [
        "# результат запроса\n",
        "df = pd.read_sql_query(query_5_3, connection)\n",
        "display(df)"
      ]
    },
    {
      "cell_type": "markdown",
      "id": "eab2206d-d95b-468b-8e5f-34381abf0ce7",
      "metadata": {
        "id": "eab2206d-d95b-468b-8e5f-34381abf0ce7"
      },
      "source": [
        "4. Напишите запрос для подсчёта количества работодателей, у которых не указана сфера деятельности. "
      ]
    },
    {
      "cell_type": "code",
      "execution_count": 518,
      "id": "80defb23-bfb1-4a18-8be6-bf36aa7165d5",
      "metadata": {
        "id": "80defb23-bfb1-4a18-8be6-bf36aa7165d5"
      },
      "outputs": [],
      "source": [
        "# текст запроса\n",
        "query_5_4 = f\"\"\" \n",
        "    SELECT COUNT(*) \n",
        "    FROM employers\n",
        "    LEFT JOIN employers_industries ON id = employer_id\n",
        "    WHERE employer_id is NULL\n",
        "\"\"\""
      ]
    },
    {
      "cell_type": "code",
      "execution_count": 519,
      "id": "Dp_yCx6ysQSu",
      "metadata": {
        "id": "Dp_yCx6ysQSu"
      },
      "outputs": [
        {
          "name": "stdout",
          "output_type": "stream",
          "text": [
            "Количество работодателей, у которых не указана сфера деятельности\n"
          ]
        },
        {
          "data": {
            "text/html": [
              "<div>\n",
              "<style scoped>\n",
              "    .dataframe tbody tr th:only-of-type {\n",
              "        vertical-align: middle;\n",
              "    }\n",
              "\n",
              "    .dataframe tbody tr th {\n",
              "        vertical-align: top;\n",
              "    }\n",
              "\n",
              "    .dataframe thead th {\n",
              "        text-align: right;\n",
              "    }\n",
              "</style>\n",
              "<table border=\"1\" class=\"dataframe\">\n",
              "  <thead>\n",
              "    <tr style=\"text-align: right;\">\n",
              "      <th></th>\n",
              "      <th>count</th>\n",
              "    </tr>\n",
              "  </thead>\n",
              "  <tbody>\n",
              "    <tr>\n",
              "      <th>0</th>\n",
              "      <td>8419</td>\n",
              "    </tr>\n",
              "  </tbody>\n",
              "</table>\n",
              "</div>"
            ],
            "text/plain": [
              "   count\n",
              "0   8419"
            ]
          },
          "metadata": {},
          "output_type": "display_data"
        },
        {
          "name": "stdout",
          "output_type": "stream",
          "text": [
            "10 компаний без указанной сферы деятельности\n"
          ]
        },
        {
          "data": {
            "text/html": [
              "<div>\n",
              "<style scoped>\n",
              "    .dataframe tbody tr th:only-of-type {\n",
              "        vertical-align: middle;\n",
              "    }\n",
              "\n",
              "    .dataframe tbody tr th {\n",
              "        vertical-align: top;\n",
              "    }\n",
              "\n",
              "    .dataframe thead th {\n",
              "        text-align: right;\n",
              "    }\n",
              "</style>\n",
              "<table border=\"1\" class=\"dataframe\">\n",
              "  <thead>\n",
              "    <tr style=\"text-align: right;\">\n",
              "      <th></th>\n",
              "      <th>name</th>\n",
              "    </tr>\n",
              "  </thead>\n",
              "  <tbody>\n",
              "    <tr>\n",
              "      <th>0</th>\n",
              "      <td>ОМС</td>\n",
              "    </tr>\n",
              "    <tr>\n",
              "      <th>1</th>\n",
              "      <td>Luxoft</td>\n",
              "    </tr>\n",
              "    <tr>\n",
              "      <th>2</th>\n",
              "      <td>Упаковка</td>\n",
              "    </tr>\n",
              "    <tr>\n",
              "      <th>3</th>\n",
              "      <td>ФПК Гарант-Инвест</td>\n",
              "    </tr>\n",
              "    <tr>\n",
              "      <th>4</th>\n",
              "      <td>ГК ТСС</td>\n",
              "    </tr>\n",
              "    <tr>\n",
              "      <th>5</th>\n",
              "      <td>ОПУС, группа компаний</td>\n",
              "    </tr>\n",
              "    <tr>\n",
              "      <th>6</th>\n",
              "      <td>Группа компаний АРИКОН</td>\n",
              "    </tr>\n",
              "    <tr>\n",
              "      <th>7</th>\n",
              "      <td>ТПС Недвижимость</td>\n",
              "    </tr>\n",
              "    <tr>\n",
              "      <th>8</th>\n",
              "      <td>Воздухотехника</td>\n",
              "    </tr>\n",
              "    <tr>\n",
              "      <th>9</th>\n",
              "      <td>ЗЕНОН</td>\n",
              "    </tr>\n",
              "  </tbody>\n",
              "</table>\n",
              "</div>"
            ],
            "text/plain": [
              "                     name\n",
              "0                     ОМС\n",
              "1                  Luxoft\n",
              "2                Упаковка\n",
              "3       ФПК Гарант-Инвест\n",
              "4                  ГК ТСС\n",
              "5   ОПУС, группа компаний\n",
              "6  Группа компаний АРИКОН\n",
              "7        ТПС Недвижимость\n",
              "8          Воздухотехника\n",
              "9                   ЗЕНОН"
            ]
          },
          "metadata": {},
          "output_type": "display_data"
        }
      ],
      "source": [
        "# результат запроса\n",
        "df = pd.read_sql_query(query_5_4, connection)\n",
        "print(\"Количество работодателей, у которых не указана сфера деятельности\")\n",
        "display(df)\n",
        "\n",
        "query = f\"\"\" \n",
        "    SELECT name\n",
        "    FROM employers\n",
        "    LEFT JOIN employers_industries ON id = employer_id\n",
        "    WHERE employer_id is NULL\n",
        "    LIMIT 10\n",
        "\"\"\"\n",
        "df = pd.read_sql_query(query, connection)\n",
        "print(\"10 компаний без указанной сферы деятельности\")\n",
        "display(df)\n"
      ]
    },
    {
      "cell_type": "markdown",
      "id": "0112af31-f6b0-4e3b-82ab-71296e752e5e",
      "metadata": {
        "id": "0112af31-f6b0-4e3b-82ab-71296e752e5e"
      },
      "source": [
        "5. Напишите запрос, чтобы узнать название компании, находящейся на третьем месте в алфавитном списке (по названию) компаний, у которых указано четыре сферы деятельности. "
      ]
    },
    {
      "cell_type": "code",
      "execution_count": 520,
      "id": "973b0cfc-a972-470a-8b4a-68744ef220c4",
      "metadata": {
        "id": "973b0cfc-a972-470a-8b4a-68744ef220c4"
      },
      "outputs": [],
      "source": [
        "# текст запроса\n",
        "query_5_5 = f\"\"\" \n",
        "    SELECT \n",
        "        name\n",
        "    FROM employers\n",
        "    JOIN employers_industries ON id = employer_id\n",
        "    GROUP BY id\n",
        "    HAVING COUNT(*) = 4\n",
        "    ORDER BY COUNT(*) DESC, name\n",
        "    OFFSET 2\n",
        "    LIMIT 1\n",
        "\"\"\""
      ]
    },
    {
      "cell_type": "code",
      "execution_count": 521,
      "id": "xsPtpp8EsaED",
      "metadata": {
        "id": "xsPtpp8EsaED"
      },
      "outputs": [
        {
          "name": "stdout",
          "output_type": "stream",
          "text": [
            "Table query_5_5\n"
          ]
        },
        {
          "data": {
            "text/html": [
              "<div>\n",
              "<style scoped>\n",
              "    .dataframe tbody tr th:only-of-type {\n",
              "        vertical-align: middle;\n",
              "    }\n",
              "\n",
              "    .dataframe tbody tr th {\n",
              "        vertical-align: top;\n",
              "    }\n",
              "\n",
              "    .dataframe thead th {\n",
              "        text-align: right;\n",
              "    }\n",
              "</style>\n",
              "<table border=\"1\" class=\"dataframe\">\n",
              "  <thead>\n",
              "    <tr style=\"text-align: right;\">\n",
              "      <th></th>\n",
              "      <th>name</th>\n",
              "    </tr>\n",
              "  </thead>\n",
              "  <tbody>\n",
              "    <tr>\n",
              "      <th>0</th>\n",
              "      <td>2ГИС</td>\n",
              "    </tr>\n",
              "  </tbody>\n",
              "</table>\n",
              "</div>"
            ],
            "text/plain": [
              "   name\n",
              "0  2ГИС"
            ]
          },
          "metadata": {},
          "output_type": "display_data"
        }
      ],
      "source": [
        "# результат запроса\n",
        "df = pd.read_sql_query(query_5_5, connection)\n",
        "print(\"Table query_5_5\")\n",
        "display(df)"
      ]
    },
    {
      "cell_type": "markdown",
      "id": "3bfcfdaf-755d-4d2b-8ed8-326201dc07ab",
      "metadata": {
        "id": "3bfcfdaf-755d-4d2b-8ed8-326201dc07ab"
      },
      "source": [
        "6. С помощью запроса выясните, у какого количества работодателей в качестве сферы деятельности указана Разработка программного обеспечения.\n"
      ]
    },
    {
      "cell_type": "code",
      "execution_count": 522,
      "id": "ad3f270f-2991-47eb-929b-e8f88a55b0d1",
      "metadata": {
        "id": "ad3f270f-2991-47eb-929b-e8f88a55b0d1"
      },
      "outputs": [],
      "source": [
        "# текст запроса\n",
        "query_5_6 = f\"\"\" \n",
        "    SELECT COUNT(*)\n",
        "    FROM employers e\n",
        "    JOIN employers_industries ei ON e.id = ei.employer_id --необходимо присоединить промежуточную таблицу для объединения employers и industries\n",
        "    JOIN industries i ON ei.industry_id = i.id\n",
        "    WHERE i.name LIKE 'Разработка программного обеспечения'\n",
        "\"\"\""
      ]
    },
    {
      "cell_type": "code",
      "execution_count": 523,
      "id": "H72qxWM0shPR",
      "metadata": {
        "id": "H72qxWM0shPR"
      },
      "outputs": [
        {
          "name": "stdout",
          "output_type": "stream",
          "text": [
            "Число работодателей со сферой деятельности: Разработка программного обеспечения.\n"
          ]
        },
        {
          "data": {
            "text/html": [
              "<div>\n",
              "<style scoped>\n",
              "    .dataframe tbody tr th:only-of-type {\n",
              "        vertical-align: middle;\n",
              "    }\n",
              "\n",
              "    .dataframe tbody tr th {\n",
              "        vertical-align: top;\n",
              "    }\n",
              "\n",
              "    .dataframe thead th {\n",
              "        text-align: right;\n",
              "    }\n",
              "</style>\n",
              "<table border=\"1\" class=\"dataframe\">\n",
              "  <thead>\n",
              "    <tr style=\"text-align: right;\">\n",
              "      <th></th>\n",
              "      <th>count</th>\n",
              "    </tr>\n",
              "  </thead>\n",
              "  <tbody>\n",
              "    <tr>\n",
              "      <th>0</th>\n",
              "      <td>3553</td>\n",
              "    </tr>\n",
              "  </tbody>\n",
              "</table>\n",
              "</div>"
            ],
            "text/plain": [
              "   count\n",
              "0   3553"
            ]
          },
          "metadata": {},
          "output_type": "display_data"
        }
      ],
      "source": [
        "# результат запроса\n",
        "df = pd.read_sql_query(query_5_6, connection)\n",
        "print(\"Число работодателей со сферой деятельности: Разработка программного обеспечения.\")\n",
        "display(df)"
      ]
    },
    {
      "cell_type": "markdown",
      "id": "7b02bb86-0546-40fb-94a4-242f050a5c57",
      "metadata": {
        "id": "7b02bb86-0546-40fb-94a4-242f050a5c57"
      },
      "source": [
        "7. Для компании «Яндекс» выведите список регионов-миллионников, в которых представлены вакансии компании, вместе с количеством вакансий в этих регионах. Также добавьте строку Total с общим количеством вакансий компании. Результат отсортируйте по возрастанию количества.\n",
        "\n",
        "Список городов-милионников надо взять [отсюда](https://ru.wikipedia.org/wiki/%D0%93%D0%BE%D1%80%D0%BE%D0%B4%D0%B0-%D0%BC%D0%B8%D0%BB%D0%BB%D0%B8%D0%BE%D0%BD%D0%B5%D1%80%D1%8B_%D0%A0%D0%BE%D1%81%D1%81%D0%B8%D0%B8). \n",
        "\n",
        "Если возникнут трудности с этим задание посмотрите материалы модуля  PYTHON-17. Как получать данные из веб-источников и API. "
      ]
    },
    {
      "cell_type": "code",
      "execution_count": 524,
      "id": "ZdfrL6gIs1Pn",
      "metadata": {
        "id": "ZdfrL6gIs1Pn"
      },
      "outputs": [
        {
          "name": "stdout",
          "output_type": "stream",
          "text": [
            "Москва\n",
            "Санкт-Петербург\n",
            "Новосибирск\n",
            "Екатеринбург\n",
            "Казань\n",
            "Нижний Новгород\n",
            "Челябинск\n",
            "Красноярск\n",
            "Самара\n",
            "Уфа\n",
            "Ростов-на-Дону\n",
            "Омск\n",
            "Краснодар\n",
            "Воронеж\n",
            "Пермь\n",
            "Волгоград\n"
          ]
        }
      ],
      "source": [
        "# код для получения списка городов-милионников\n",
        "url = 'https://ru.wikipedia.org/wiki/Города-миллионеры_России' # Определяем значение URL страницы для запроса\n",
        "response = requests.get(url) # Делаем GET-запрос к ресурсу и результат ответа сохраняем в переменной response\n",
        "page = BeautifulSoup(response.text, 'html.parser') # Создаём объект BeautifulSoup, указывая html-парсер\n",
        "table = page.find_all('table')[1]\n",
        "\n",
        "city_list = []\n",
        "#переберем указанную на сайте табличку\n",
        "for row in table.find_all('tr'):\n",
        "    columns = row.find_all('td')\n",
        "    try:\n",
        "        city = columns[1].get_text()\n",
        "        # в тексте могут появляться ссылки, которые при считывании таблицы преобразуются\n",
        "        # в текст в квадратных скобках [%], оставляем только текст до квадратной скобки\n",
        "        if '[' in city: \n",
        "            new_city =''\n",
        "            for letter in city:\n",
        "                if letter == '[':\n",
        "                    city = new_city\n",
        "                    break\n",
        "                new_city +=letter\n",
        "        city_list.append(city) \n",
        "    except:\n",
        "        pass\n",
        "#Распечатаем города, убедимся что все в порядке\n",
        "for city in city_list:\n",
        "    print(city)"
      ]
    },
    {
      "cell_type": "code",
      "execution_count": 525,
      "id": "5a0e32a4-e68a-4365-8a39-2fe24c542c36",
      "metadata": {
        "id": "5a0e32a4-e68a-4365-8a39-2fe24c542c36"
      },
      "outputs": [],
      "source": [
        "# текст запроса\n",
        "query_5_7 = f\"\"\" \n",
        "    (SELECT \n",
        "        a.name,\n",
        "        COUNT(*) as count\n",
        "    FROM vacancies v \n",
        "    JOIN employers e ON v.employer_id = e.id\n",
        "    JOIN areas a ON v.area_id = a.id\n",
        "    WHERE e.name LIKE 'Яндекс'\n",
        "    GROUP BY a.name\n",
        "    HAVING a.name in {tuple(city_list)})\n",
        "    \n",
        "    UNION ALL\n",
        "    -- добавляем строчку TOTAL\n",
        "    (SELECT\n",
        "        'Total' as name,\n",
        "        COUNT(*)\n",
        "    FROM vacancies v \n",
        "    JOIN employers e ON v.employer_id = e.id\n",
        "    JOIN areas a ON v.area_id = a.id\n",
        "    WHERE e.name LIKE 'Яндекс' AND a.name in {tuple(city_list)})\n",
        "    ORDER BY count\n",
        "\"\"\""
      ]
    },
    {
      "cell_type": "code",
      "execution_count": 526,
      "id": "ttPhiO1rsvPq",
      "metadata": {
        "id": "ttPhiO1rsvPq"
      },
      "outputs": [
        {
          "data": {
            "text/html": [
              "<div>\n",
              "<style scoped>\n",
              "    .dataframe tbody tr th:only-of-type {\n",
              "        vertical-align: middle;\n",
              "    }\n",
              "\n",
              "    .dataframe tbody tr th {\n",
              "        vertical-align: top;\n",
              "    }\n",
              "\n",
              "    .dataframe thead th {\n",
              "        text-align: right;\n",
              "    }\n",
              "</style>\n",
              "<table border=\"1\" class=\"dataframe\">\n",
              "  <thead>\n",
              "    <tr style=\"text-align: right;\">\n",
              "      <th></th>\n",
              "      <th>name</th>\n",
              "      <th>count</th>\n",
              "    </tr>\n",
              "  </thead>\n",
              "  <tbody>\n",
              "    <tr>\n",
              "      <th>0</th>\n",
              "      <td>Омск</td>\n",
              "      <td>21</td>\n",
              "    </tr>\n",
              "    <tr>\n",
              "      <th>1</th>\n",
              "      <td>Челябинск</td>\n",
              "      <td>22</td>\n",
              "    </tr>\n",
              "    <tr>\n",
              "      <th>2</th>\n",
              "      <td>Красноярск</td>\n",
              "      <td>23</td>\n",
              "    </tr>\n",
              "    <tr>\n",
              "      <th>3</th>\n",
              "      <td>Волгоград</td>\n",
              "      <td>24</td>\n",
              "    </tr>\n",
              "    <tr>\n",
              "      <th>4</th>\n",
              "      <td>Пермь</td>\n",
              "      <td>25</td>\n",
              "    </tr>\n",
              "    <tr>\n",
              "      <th>5</th>\n",
              "      <td>Казань</td>\n",
              "      <td>25</td>\n",
              "    </tr>\n",
              "    <tr>\n",
              "      <th>6</th>\n",
              "      <td>Ростов-на-Дону</td>\n",
              "      <td>25</td>\n",
              "    </tr>\n",
              "    <tr>\n",
              "      <th>7</th>\n",
              "      <td>Уфа</td>\n",
              "      <td>26</td>\n",
              "    </tr>\n",
              "    <tr>\n",
              "      <th>8</th>\n",
              "      <td>Самара</td>\n",
              "      <td>26</td>\n",
              "    </tr>\n",
              "    <tr>\n",
              "      <th>9</th>\n",
              "      <td>Краснодар</td>\n",
              "      <td>30</td>\n",
              "    </tr>\n",
              "    <tr>\n",
              "      <th>10</th>\n",
              "      <td>Воронеж</td>\n",
              "      <td>32</td>\n",
              "    </tr>\n",
              "    <tr>\n",
              "      <th>11</th>\n",
              "      <td>Новосибирск</td>\n",
              "      <td>35</td>\n",
              "    </tr>\n",
              "    <tr>\n",
              "      <th>12</th>\n",
              "      <td>Нижний Новгород</td>\n",
              "      <td>36</td>\n",
              "    </tr>\n",
              "    <tr>\n",
              "      <th>13</th>\n",
              "      <td>Екатеринбург</td>\n",
              "      <td>39</td>\n",
              "    </tr>\n",
              "    <tr>\n",
              "      <th>14</th>\n",
              "      <td>Санкт-Петербург</td>\n",
              "      <td>42</td>\n",
              "    </tr>\n",
              "    <tr>\n",
              "      <th>15</th>\n",
              "      <td>Москва</td>\n",
              "      <td>54</td>\n",
              "    </tr>\n",
              "    <tr>\n",
              "      <th>16</th>\n",
              "      <td>Total</td>\n",
              "      <td>485</td>\n",
              "    </tr>\n",
              "  </tbody>\n",
              "</table>\n",
              "</div>"
            ],
            "text/plain": [
              "               name  count\n",
              "0              Омск     21\n",
              "1         Челябинск     22\n",
              "2        Красноярск     23\n",
              "3         Волгоград     24\n",
              "4             Пермь     25\n",
              "5            Казань     25\n",
              "6    Ростов-на-Дону     25\n",
              "7               Уфа     26\n",
              "8            Самара     26\n",
              "9         Краснодар     30\n",
              "10          Воронеж     32\n",
              "11      Новосибирск     35\n",
              "12  Нижний Новгород     36\n",
              "13     Екатеринбург     39\n",
              "14  Санкт-Петербург     42\n",
              "15           Москва     54\n",
              "16            Total    485"
            ]
          },
          "metadata": {},
          "output_type": "display_data"
        }
      ],
      "source": [
        "# результат запроса\n",
        "df = pd.read_sql_query(query_5_7, connection)\n",
        "display(df)"
      ]
    },
    {
      "cell_type": "markdown",
      "id": "04966e40-3bc3-4dc8-9ba2-e80580ce3abc",
      "metadata": {
        "id": "04966e40-3bc3-4dc8-9ba2-e80580ce3abc"
      },
      "source": [
        "***"
      ]
    },
    {
      "attachments": {},
      "cell_type": "markdown",
      "id": "aGGyER-yt4SR",
      "metadata": {
        "id": "aGGyER-yt4SR"
      },
      "source": [
        "# Выводы по анализу работодателей\n",
        "- Работодатель может иметь несколько сфер деятельности\n",
        "- Тенденции по наибольшему числу вакансий для Яндекс сохраняется как и для всех вакансий. Больше всего вакансий в Москве, Санкт-Петербурге и в 5ку входит Новосибирск.\n",
        "- Яндекс является лидером по числу вакансий в регионах и неоспоримым лидером по числу вакансий для компаний (в 4 раза больше вакансий, чем у второго места)\n",
        "- По таблице регионов и числу работодателей и вакансий в них, можно обнаружить регионы, которые включают в себя меньшие по размеру субъекты. Причем, нет вакансий с указанием регион Россия, но есть вакансии в городах России. То есть, в таблице регионов, есть избыточная информация.\n",
        "- Из 23 тысяч работодателей 3,5 тысячи имеют в своей сфере деятельности разработку программного обеспечения, что говорит о популярности данной базы у IT сферы"
      ]
    },
    {
      "cell_type": "markdown",
      "id": "b1ef156a-efcb-49ce-bb23-90763e7f35b2",
      "metadata": {
        "id": "b1ef156a-efcb-49ce-bb23-90763e7f35b2",
        "tags": []
      },
      "source": [
        "# Юнит 6. Предметный анализ"
      ]
    },
    {
      "cell_type": "markdown",
      "id": "b9cd50a0-992d-4988-8463-2b2b1c4629b4",
      "metadata": {
        "id": "b9cd50a0-992d-4988-8463-2b2b1c4629b4"
      },
      "source": [
        "1. Сколько вакансий имеет отношение к данным?\n",
        "\n",
        "Считаем, что вакансия имеет отношение к данным, если в её названии содержатся слова 'data' или 'данн'.\n",
        "\n",
        "*Подсказка: Обратите внимание, что названия вакансий могут быть написаны в любом регистре.* \n"
      ]
    },
    {
      "cell_type": "code",
      "execution_count": 527,
      "id": "54ab0e50-c0f1-47cc-a54b-bc5c8bc363f9",
      "metadata": {
        "id": "54ab0e50-c0f1-47cc-a54b-bc5c8bc363f9"
      },
      "outputs": [],
      "source": [
        "# текст запроса\n",
        "query_6_1 = \"\"\" \n",
        "    SELECT COUNT(*)\n",
        "    FROM vacancies\n",
        "    WHERE lower(name) LIKE '%данн%' OR lower(name) LIKE '%data%'\n",
        "\"\"\""
      ]
    },
    {
      "cell_type": "code",
      "execution_count": 528,
      "id": "9F1meAqsuUjd",
      "metadata": {
        "id": "9F1meAqsuUjd"
      },
      "outputs": [
        {
          "name": "stdout",
          "output_type": "stream",
          "text": [
            "Table query_6_1\n"
          ]
        },
        {
          "data": {
            "text/html": [
              "<div>\n",
              "<style scoped>\n",
              "    .dataframe tbody tr th:only-of-type {\n",
              "        vertical-align: middle;\n",
              "    }\n",
              "\n",
              "    .dataframe tbody tr th {\n",
              "        vertical-align: top;\n",
              "    }\n",
              "\n",
              "    .dataframe thead th {\n",
              "        text-align: right;\n",
              "    }\n",
              "</style>\n",
              "<table border=\"1\" class=\"dataframe\">\n",
              "  <thead>\n",
              "    <tr style=\"text-align: right;\">\n",
              "      <th></th>\n",
              "      <th>count</th>\n",
              "    </tr>\n",
              "  </thead>\n",
              "  <tbody>\n",
              "    <tr>\n",
              "      <th>0</th>\n",
              "      <td>1771</td>\n",
              "    </tr>\n",
              "  </tbody>\n",
              "</table>\n",
              "</div>"
            ],
            "text/plain": [
              "   count\n",
              "0   1771"
            ]
          },
          "metadata": {},
          "output_type": "display_data"
        },
        {
          "name": "stdout",
          "output_type": "stream",
          "text": [
            "Таблица с вакансиями, относящимся к данным\n"
          ]
        },
        {
          "data": {
            "text/html": [
              "<div>\n",
              "<style scoped>\n",
              "    .dataframe tbody tr th:only-of-type {\n",
              "        vertical-align: middle;\n",
              "    }\n",
              "\n",
              "    .dataframe tbody tr th {\n",
              "        vertical-align: top;\n",
              "    }\n",
              "\n",
              "    .dataframe thead th {\n",
              "        text-align: right;\n",
              "    }\n",
              "</style>\n",
              "<table border=\"1\" class=\"dataframe\">\n",
              "  <thead>\n",
              "    <tr style=\"text-align: right;\">\n",
              "      <th></th>\n",
              "      <th>id</th>\n",
              "      <th>name</th>\n",
              "      <th>key_skills</th>\n",
              "      <th>schedule</th>\n",
              "      <th>experience</th>\n",
              "      <th>employment</th>\n",
              "      <th>salary_from</th>\n",
              "      <th>salary_to</th>\n",
              "      <th>area_id</th>\n",
              "      <th>employer_id</th>\n",
              "    </tr>\n",
              "  </thead>\n",
              "  <tbody>\n",
              "    <tr>\n",
              "      <th>0</th>\n",
              "      <td>66075509</td>\n",
              "      <td>Аналитик хранилищ данных и BI-систем/Аналитик ...</td>\n",
              "      <td>SQL\\tREST API\\tBI-систем/ EAM(ТОиР)\\tПроектная...</td>\n",
              "      <td>Полный день</td>\n",
              "      <td>От 1 года до 3 лет</td>\n",
              "      <td>Полная занятость</td>\n",
              "      <td>NaN</td>\n",
              "      <td>NaN</td>\n",
              "      <td>43</td>\n",
              "      <td>8645304</td>\n",
              "    </tr>\n",
              "    <tr>\n",
              "      <th>1</th>\n",
              "      <td>55462336</td>\n",
              "      <td>Data-analysts (удаленно)</td>\n",
              "      <td>SQL\\tPython\\tPostgreSQL\\tDocker\\tTableau</td>\n",
              "      <td>Удаленная работа</td>\n",
              "      <td>От 1 года до 3 лет</td>\n",
              "      <td>Полная занятость</td>\n",
              "      <td>NaN</td>\n",
              "      <td>NaN</td>\n",
              "      <td>98</td>\n",
              "      <td>150082</td>\n",
              "    </tr>\n",
              "    <tr>\n",
              "      <th>2</th>\n",
              "      <td>55348138</td>\n",
              "      <td>Стажер Data Engineer/Data Аналитик в команду Б...</td>\n",
              "      <td>Python\\tSQL\\tMS PowerPoint</td>\n",
              "      <td>Полный день</td>\n",
              "      <td>Нет опыта</td>\n",
              "      <td>Стажировка</td>\n",
              "      <td>NaN</td>\n",
              "      <td>NaN</td>\n",
              "      <td>1</td>\n",
              "      <td>3529</td>\n",
              "    </tr>\n",
              "    <tr>\n",
              "      <th>3</th>\n",
              "      <td>54629664</td>\n",
              "      <td>Старший специалист хранилищ данных</td>\n",
              "      <td>SQL\\tORACLE\\tБазы данных\\tETL\\tБаза данных: Or...</td>\n",
              "      <td>Полный день</td>\n",
              "      <td>От 1 года до 3 лет</td>\n",
              "      <td>Полная занятость</td>\n",
              "      <td>NaN</td>\n",
              "      <td>NaN</td>\n",
              "      <td>88</td>\n",
              "      <td>7944</td>\n",
              "    </tr>\n",
              "    <tr>\n",
              "      <th>4</th>\n",
              "      <td>55348337</td>\n",
              "      <td>Администратор баз данных и сетей</td>\n",
              "      <td>None</td>\n",
              "      <td>Полный день</td>\n",
              "      <td>От 1 года до 3 лет</td>\n",
              "      <td>Полная занятость</td>\n",
              "      <td>NaN</td>\n",
              "      <td>NaN</td>\n",
              "      <td>246</td>\n",
              "      <td>194646</td>\n",
              "    </tr>\n",
              "    <tr>\n",
              "      <th>5</th>\n",
              "      <td>50841715</td>\n",
              "      <td>Администратор баз данных (DBA)</td>\n",
              "      <td>PostgreSQL\\tMS SQL\\tРабота с базами данных\\tад...</td>\n",
              "      <td>Полный день</td>\n",
              "      <td>От 1 года до 3 лет</td>\n",
              "      <td>Полная занятость</td>\n",
              "      <td>NaN</td>\n",
              "      <td>NaN</td>\n",
              "      <td>96</td>\n",
              "      <td>2488771</td>\n",
              "    </tr>\n",
              "    <tr>\n",
              "      <th>6</th>\n",
              "      <td>54824572</td>\n",
              "      <td>Data Scientist</td>\n",
              "      <td>Oracle Pl/SQL\\tБазы данных\\tMachine Learning\\t...</td>\n",
              "      <td>Полный день</td>\n",
              "      <td>От 1 года до 3 лет</td>\n",
              "      <td>Полная занятость</td>\n",
              "      <td>NaN</td>\n",
              "      <td>NaN</td>\n",
              "      <td>160</td>\n",
              "      <td>111304</td>\n",
              "    </tr>\n",
              "    <tr>\n",
              "      <th>7</th>\n",
              "      <td>55383555</td>\n",
              "      <td>Старший менеджер по анализу данных</td>\n",
              "      <td>Английский язык\\tMS PowerPoint\\tPower BI\\tРабо...</td>\n",
              "      <td>Полный день</td>\n",
              "      <td>От 1 года до 3 лет</td>\n",
              "      <td>Полная занятость</td>\n",
              "      <td>NaN</td>\n",
              "      <td>NaN</td>\n",
              "      <td>1753</td>\n",
              "      <td>6041</td>\n",
              "    </tr>\n",
              "    <tr>\n",
              "      <th>8</th>\n",
              "      <td>55089826</td>\n",
              "      <td>Администратор баз данных 1С</td>\n",
              "      <td>None</td>\n",
              "      <td>Полный день</td>\n",
              "      <td>От 1 года до 3 лет</td>\n",
              "      <td>Полная занятость</td>\n",
              "      <td>55000.0</td>\n",
              "      <td>70000.0</td>\n",
              "      <td>54</td>\n",
              "      <td>963694</td>\n",
              "    </tr>\n",
              "    <tr>\n",
              "      <th>9</th>\n",
              "      <td>54801861</td>\n",
              "      <td>Администратор баз данных (стажер)</td>\n",
              "      <td>SQL\\tLinux\\tРабота с базами данных\\tPostgreSQL...</td>\n",
              "      <td>Полный день</td>\n",
              "      <td>Нет опыта</td>\n",
              "      <td>Стажировка</td>\n",
              "      <td>NaN</td>\n",
              "      <td>NaN</td>\n",
              "      <td>26</td>\n",
              "      <td>2733062</td>\n",
              "    </tr>\n",
              "  </tbody>\n",
              "</table>\n",
              "</div>"
            ],
            "text/plain": [
              "         id                                               name  \\\n",
              "0  66075509  Аналитик хранилищ данных и BI-систем/Аналитик ...   \n",
              "1  55462336                           Data-analysts (удаленно)   \n",
              "2  55348138  Стажер Data Engineer/Data Аналитик в команду Б...   \n",
              "3  54629664                 Старший специалист хранилищ данных   \n",
              "4  55348337                   Администратор баз данных и сетей   \n",
              "5  50841715                     Администратор баз данных (DBA)   \n",
              "6  54824572                                     Data Scientist   \n",
              "7  55383555                 Старший менеджер по анализу данных   \n",
              "8  55089826                        Администратор баз данных 1С   \n",
              "9  54801861                  Администратор баз данных (стажер)   \n",
              "\n",
              "                                          key_skills          schedule  \\\n",
              "0  SQL\\tREST API\\tBI-систем/ EAM(ТОиР)\\tПроектная...       Полный день   \n",
              "1           SQL\\tPython\\tPostgreSQL\\tDocker\\tTableau  Удаленная работа   \n",
              "2                         Python\\tSQL\\tMS PowerPoint       Полный день   \n",
              "3  SQL\\tORACLE\\tБазы данных\\tETL\\tБаза данных: Or...       Полный день   \n",
              "4                                               None       Полный день   \n",
              "5  PostgreSQL\\tMS SQL\\tРабота с базами данных\\tад...       Полный день   \n",
              "6  Oracle Pl/SQL\\tБазы данных\\tMachine Learning\\t...       Полный день   \n",
              "7  Английский язык\\tMS PowerPoint\\tPower BI\\tРабо...       Полный день   \n",
              "8                                               None       Полный день   \n",
              "9  SQL\\tLinux\\tРабота с базами данных\\tPostgreSQL...       Полный день   \n",
              "\n",
              "           experience        employment  salary_from  salary_to  area_id  \\\n",
              "0  От 1 года до 3 лет  Полная занятость          NaN        NaN       43   \n",
              "1  От 1 года до 3 лет  Полная занятость          NaN        NaN       98   \n",
              "2           Нет опыта        Стажировка          NaN        NaN        1   \n",
              "3  От 1 года до 3 лет  Полная занятость          NaN        NaN       88   \n",
              "4  От 1 года до 3 лет  Полная занятость          NaN        NaN      246   \n",
              "5  От 1 года до 3 лет  Полная занятость          NaN        NaN       96   \n",
              "6  От 1 года до 3 лет  Полная занятость          NaN        NaN      160   \n",
              "7  От 1 года до 3 лет  Полная занятость          NaN        NaN     1753   \n",
              "8  От 1 года до 3 лет  Полная занятость      55000.0    70000.0       54   \n",
              "9           Нет опыта        Стажировка          NaN        NaN       26   \n",
              "\n",
              "   employer_id  \n",
              "0      8645304  \n",
              "1       150082  \n",
              "2         3529  \n",
              "3         7944  \n",
              "4       194646  \n",
              "5      2488771  \n",
              "6       111304  \n",
              "7         6041  \n",
              "8       963694  \n",
              "9      2733062  "
            ]
          },
          "metadata": {},
          "output_type": "display_data"
        }
      ],
      "source": [
        "# результат запроса\n",
        "df = pd.read_sql_query(query_6_1, connection)\n",
        "print(\"Table query_6_1\")\n",
        "display(df)\n",
        "\n",
        "query_6_1 = \"\"\" \n",
        "    SELECT *\n",
        "    FROM vacancies\n",
        "    WHERE lower(name) LIKE '%данн%' OR lower(name) LIKE '%data%'\n",
        "    LIMIT 10\n",
        "\"\"\"\n",
        "df = pd.read_sql_query(query_6_1, connection)\n",
        "print(\"Таблица с вакансиями, относящимся к данным\")\n",
        "display(df)"
      ]
    },
    {
      "cell_type": "markdown",
      "id": "4dea20cb-a36b-474a-a0b9-e08e8e3857a5",
      "metadata": {
        "id": "4dea20cb-a36b-474a-a0b9-e08e8e3857a5"
      },
      "source": [
        "2. Сколько есть подходящих вакансий для начинающего дата-сайентиста? \n",
        "Будем считать вакансиями для дата-сайентистов такие, в названии которых есть хотя бы одно из следующих сочетаний:\n",
        "* 'data scientist'\n",
        "* 'data science'\n",
        "* 'исследователь данных'\n",
        "* 'ML' (здесь не нужно брать вакансии по HTML)\n",
        "* 'machine learning'\n",
        "* 'машинн%обучен%'\n",
        "\n",
        "** В следующих заданиях мы продолжим работать с вакансиями по этому условию.*\n",
        "\n",
        "Считаем вакансиями для специалистов уровня Junior следующие:\n",
        "* в названии есть слово 'junior' *или*\n",
        "* требуемый опыт — Нет опыта *или*\n",
        "* тип трудоустройства — Стажировка.\n",
        " "
      ]
    },
    {
      "cell_type": "code",
      "execution_count": 529,
      "id": "9c61b3c0-bb66-46c9-ae1e-81d3f5752b4a",
      "metadata": {
        "id": "9c61b3c0-bb66-46c9-ae1e-81d3f5752b4a"
      },
      "outputs": [],
      "source": [
        "# текст запроса\n",
        "query_6_2 = \"\"\" \n",
        "    SELECT COUNT(*)\n",
        "    FROM vacancies\n",
        "    WHERE   \n",
        "            (lower(name) LIKE '%data scientist%' OR \n",
        "            lower(name) LIKE '%data science%' OR\n",
        "            lower(name) LIKE '%исследователь данных%' OR\n",
        "            (name LIKE '%ML%' AND name NOT LIKE '%HTML%') OR\n",
        "            lower(name) LIKE '%machine learning%' OR\n",
        "            lower(name) LIKE '%машинн%обучен%' ) \n",
        "            \n",
        "            AND \n",
        "            \n",
        "            (lower(name) LIKE '%junior%' OR \n",
        "             lower(experience) LIKE '%нет опыта%' OR\n",
        "             lower(employment) LIKE '%стажировка%')\n",
        "\"\"\""
      ]
    },
    {
      "cell_type": "code",
      "execution_count": 530,
      "id": "ZNM-LLYuu1dj",
      "metadata": {
        "id": "ZNM-LLYuu1dj"
      },
      "outputs": [
        {
          "name": "stdout",
          "output_type": "stream",
          "text": [
            "Table query_6_2\n"
          ]
        },
        {
          "data": {
            "text/html": [
              "<div>\n",
              "<style scoped>\n",
              "    .dataframe tbody tr th:only-of-type {\n",
              "        vertical-align: middle;\n",
              "    }\n",
              "\n",
              "    .dataframe tbody tr th {\n",
              "        vertical-align: top;\n",
              "    }\n",
              "\n",
              "    .dataframe thead th {\n",
              "        text-align: right;\n",
              "    }\n",
              "</style>\n",
              "<table border=\"1\" class=\"dataframe\">\n",
              "  <thead>\n",
              "    <tr style=\"text-align: right;\">\n",
              "      <th></th>\n",
              "      <th>count</th>\n",
              "    </tr>\n",
              "  </thead>\n",
              "  <tbody>\n",
              "    <tr>\n",
              "      <th>0</th>\n",
              "      <td>51</td>\n",
              "    </tr>\n",
              "  </tbody>\n",
              "</table>\n",
              "</div>"
            ],
            "text/plain": [
              "   count\n",
              "0     51"
            ]
          },
          "metadata": {},
          "output_type": "display_data"
        },
        {
          "name": "stdout",
          "output_type": "stream",
          "text": [
            "Примеры вакансий, начинающих дата-сайентистов\n"
          ]
        },
        {
          "data": {
            "text/html": [
              "<div>\n",
              "<style scoped>\n",
              "    .dataframe tbody tr th:only-of-type {\n",
              "        vertical-align: middle;\n",
              "    }\n",
              "\n",
              "    .dataframe tbody tr th {\n",
              "        vertical-align: top;\n",
              "    }\n",
              "\n",
              "    .dataframe thead th {\n",
              "        text-align: right;\n",
              "    }\n",
              "</style>\n",
              "<table border=\"1\" class=\"dataframe\">\n",
              "  <thead>\n",
              "    <tr style=\"text-align: right;\">\n",
              "      <th></th>\n",
              "      <th>id</th>\n",
              "      <th>name</th>\n",
              "      <th>key_skills</th>\n",
              "      <th>schedule</th>\n",
              "      <th>experience</th>\n",
              "      <th>employment</th>\n",
              "      <th>salary_from</th>\n",
              "      <th>salary_to</th>\n",
              "      <th>area_id</th>\n",
              "      <th>employer_id</th>\n",
              "    </tr>\n",
              "  </thead>\n",
              "  <tbody>\n",
              "    <tr>\n",
              "      <th>0</th>\n",
              "      <td>50533416</td>\n",
              "      <td>Junior+ CV/ML developer</td>\n",
              "      <td>Python\\tSQL\\tРабота в команде\\tOpenCV\\tML</td>\n",
              "      <td>Гибкий график</td>\n",
              "      <td>От 1 года до 3 лет</td>\n",
              "      <td>Полная занятость</td>\n",
              "      <td>NaN</td>\n",
              "      <td>NaN</td>\n",
              "      <td>4</td>\n",
              "      <td>80190</td>\n",
              "    </tr>\n",
              "    <tr>\n",
              "      <th>1</th>\n",
              "      <td>54825318</td>\n",
              "      <td>Data Scientist (Junior+)</td>\n",
              "      <td>Python\\tOpenCV\\tTensorflow\\tComputer Vision\\tН...</td>\n",
              "      <td>Полный день</td>\n",
              "      <td>От 1 года до 3 лет</td>\n",
              "      <td>Полная занятость</td>\n",
              "      <td>50000.0</td>\n",
              "      <td>70000.0</td>\n",
              "      <td>72</td>\n",
              "      <td>215942</td>\n",
              "    </tr>\n",
              "    <tr>\n",
              "      <th>2</th>\n",
              "      <td>55529384</td>\n",
              "      <td>Математик, Junior/Middle/Senior Data Scientist</td>\n",
              "      <td>Python\\tMATLAB\\tМатематическое моделирование\\t...</td>\n",
              "      <td>Удаленная работа</td>\n",
              "      <td>От 1 года до 3 лет</td>\n",
              "      <td>Частичная занятость</td>\n",
              "      <td>NaN</td>\n",
              "      <td>NaN</td>\n",
              "      <td>1002</td>\n",
              "      <td>1688252</td>\n",
              "    </tr>\n",
              "    <tr>\n",
              "      <th>3</th>\n",
              "      <td>55553897</td>\n",
              "      <td>Junior Data Scientist (Стажер)</td>\n",
              "      <td>Python\\tSQL\\tData Mining\\tC++\\tМатематический ...</td>\n",
              "      <td>Гибкий график</td>\n",
              "      <td>Нет опыта</td>\n",
              "      <td>Стажировка</td>\n",
              "      <td>NaN</td>\n",
              "      <td>37000.0</td>\n",
              "      <td>3</td>\n",
              "      <td>953</td>\n",
              "    </tr>\n",
              "    <tr>\n",
              "      <th>4</th>\n",
              "      <td>55343709</td>\n",
              "      <td>Data Scientist/Machine Learning Engineer (Deve...</td>\n",
              "      <td>Machine Learning\\tDeep Learning\\tData Science\\...</td>\n",
              "      <td>Гибкий график</td>\n",
              "      <td>Нет опыта</td>\n",
              "      <td>Частичная занятость</td>\n",
              "      <td>NaN</td>\n",
              "      <td>NaN</td>\n",
              "      <td>2</td>\n",
              "      <td>675403</td>\n",
              "    </tr>\n",
              "    <tr>\n",
              "      <th>5</th>\n",
              "      <td>55145641</td>\n",
              "      <td>Junior Data Scientist</td>\n",
              "      <td>Python\\tSQL\\tMachine Learning\\tData Science\\tА...</td>\n",
              "      <td>Полный день</td>\n",
              "      <td>Нет опыта</td>\n",
              "      <td>Полная занятость</td>\n",
              "      <td>50000.0</td>\n",
              "      <td>NaN</td>\n",
              "      <td>2</td>\n",
              "      <td>40938</td>\n",
              "    </tr>\n",
              "    <tr>\n",
              "      <th>6</th>\n",
              "      <td>55390769</td>\n",
              "      <td>Data Scientist (Computer Vision) - Junior</td>\n",
              "      <td>Python\\tML\\tPytorch\\tComputer Vision</td>\n",
              "      <td>Полный день</td>\n",
              "      <td>Нет опыта</td>\n",
              "      <td>Полная занятость</td>\n",
              "      <td>NaN</td>\n",
              "      <td>NaN</td>\n",
              "      <td>1</td>\n",
              "      <td>1626408</td>\n",
              "    </tr>\n",
              "    <tr>\n",
              "      <th>7</th>\n",
              "      <td>54475492</td>\n",
              "      <td>Data Scientist (Junior)</td>\n",
              "      <td>Python\\tMachine Learning\\tPandas\\tSQL\\tNumpy\\t...</td>\n",
              "      <td>Полный день</td>\n",
              "      <td>Нет опыта</td>\n",
              "      <td>Частичная занятость</td>\n",
              "      <td>45000.0</td>\n",
              "      <td>100000.0</td>\n",
              "      <td>1</td>\n",
              "      <td>665449</td>\n",
              "    </tr>\n",
              "    <tr>\n",
              "      <th>8</th>\n",
              "      <td>55119989</td>\n",
              "      <td>Intern/Junior Data Scientist</td>\n",
              "      <td>Linux\\tPython</td>\n",
              "      <td>Гибкий график</td>\n",
              "      <td>Нет опыта</td>\n",
              "      <td>Стажировка</td>\n",
              "      <td>NaN</td>\n",
              "      <td>NaN</td>\n",
              "      <td>2</td>\n",
              "      <td>3124</td>\n",
              "    </tr>\n",
              "    <tr>\n",
              "      <th>9</th>\n",
              "      <td>55120211</td>\n",
              "      <td>Junior Data Scientist (VK)</td>\n",
              "      <td>Python\\tМатематическая статистика\\tАнализ данных</td>\n",
              "      <td>Полный день</td>\n",
              "      <td>От 1 года до 3 лет</td>\n",
              "      <td>Полная занятость</td>\n",
              "      <td>NaN</td>\n",
              "      <td>NaN</td>\n",
              "      <td>1</td>\n",
              "      <td>15478</td>\n",
              "    </tr>\n",
              "  </tbody>\n",
              "</table>\n",
              "</div>"
            ],
            "text/plain": [
              "         id                                               name  \\\n",
              "0  50533416                            Junior+ CV/ML developer   \n",
              "1  54825318                           Data Scientist (Junior+)   \n",
              "2  55529384     Математик, Junior/Middle/Senior Data Scientist   \n",
              "3  55553897                     Junior Data Scientist (Стажер)   \n",
              "4  55343709  Data Scientist/Machine Learning Engineer (Deve...   \n",
              "5  55145641                              Junior Data Scientist   \n",
              "6  55390769          Data Scientist (Computer Vision) - Junior   \n",
              "7  54475492                            Data Scientist (Junior)   \n",
              "8  55119989                       Intern/Junior Data Scientist   \n",
              "9  55120211                         Junior Data Scientist (VK)   \n",
              "\n",
              "                                          key_skills          schedule  \\\n",
              "0          Python\\tSQL\\tРабота в команде\\tOpenCV\\tML     Гибкий график   \n",
              "1  Python\\tOpenCV\\tTensorflow\\tComputer Vision\\tН...       Полный день   \n",
              "2  Python\\tMATLAB\\tМатематическое моделирование\\t...  Удаленная работа   \n",
              "3  Python\\tSQL\\tData Mining\\tC++\\tМатематический ...     Гибкий график   \n",
              "4  Machine Learning\\tDeep Learning\\tData Science\\...     Гибкий график   \n",
              "5  Python\\tSQL\\tMachine Learning\\tData Science\\tА...       Полный день   \n",
              "6               Python\\tML\\tPytorch\\tComputer Vision       Полный день   \n",
              "7  Python\\tMachine Learning\\tPandas\\tSQL\\tNumpy\\t...       Полный день   \n",
              "8                                      Linux\\tPython     Гибкий график   \n",
              "9   Python\\tМатематическая статистика\\tАнализ данных       Полный день   \n",
              "\n",
              "           experience           employment  salary_from  salary_to  area_id  \\\n",
              "0  От 1 года до 3 лет     Полная занятость          NaN        NaN        4   \n",
              "1  От 1 года до 3 лет     Полная занятость      50000.0    70000.0       72   \n",
              "2  От 1 года до 3 лет  Частичная занятость          NaN        NaN     1002   \n",
              "3           Нет опыта           Стажировка          NaN    37000.0        3   \n",
              "4           Нет опыта  Частичная занятость          NaN        NaN        2   \n",
              "5           Нет опыта     Полная занятость      50000.0        NaN        2   \n",
              "6           Нет опыта     Полная занятость          NaN        NaN        1   \n",
              "7           Нет опыта  Частичная занятость      45000.0   100000.0        1   \n",
              "8           Нет опыта           Стажировка          NaN        NaN        2   \n",
              "9  От 1 года до 3 лет     Полная занятость          NaN        NaN        1   \n",
              "\n",
              "   employer_id  \n",
              "0        80190  \n",
              "1       215942  \n",
              "2      1688252  \n",
              "3          953  \n",
              "4       675403  \n",
              "5        40938  \n",
              "6      1626408  \n",
              "7       665449  \n",
              "8         3124  \n",
              "9        15478  "
            ]
          },
          "metadata": {},
          "output_type": "display_data"
        }
      ],
      "source": [
        "# результат запроса\n",
        "df = pd.read_sql_query(query_6_2, connection)\n",
        "print(\"Table query_6_2\")\n",
        "display(df)\n",
        "\n",
        "query = \"\"\" \n",
        "    SELECT *\n",
        "    FROM vacancies\n",
        "    WHERE   \n",
        "            (lower(name) LIKE '%data scientist%' OR \n",
        "            lower(name) LIKE '%data science%' OR\n",
        "            lower(name) LIKE '%исследователь данных%' OR\n",
        "            (name LIKE '%ML%' AND name NOT LIKE '%HTML%') OR\n",
        "            lower(name) LIKE '%machine learning%' OR\n",
        "            lower(name) LIKE '%машинн%обучен%' ) \n",
        "            \n",
        "            AND \n",
        "            \n",
        "            (lower(name) LIKE '%junior%' OR \n",
        "             lower(experience) LIKE '%нет опыта%' OR\n",
        "             lower(employment) LIKE '%стажировка%')\n",
        "    LIMIT 10\n",
        "\"\"\"\n",
        "\n",
        "df = pd.read_sql_query(query, connection)\n",
        "print(\"Примеры вакансий, начинающих дата-сайентистов\")\n",
        "display(df)"
      ]
    },
    {
      "cell_type": "markdown",
      "id": "eedceb80-c5ca-480e-b27a-278dfb8b4438",
      "metadata": {
        "id": "eedceb80-c5ca-480e-b27a-278dfb8b4438"
      },
      "source": [
        "3. Сколько есть вакансий для DS, в которых в качестве ключевого навыка указан SQL или postgres?\n",
        "\n",
        "** Критерии для отнесения вакансии к DS указаны в предыдущем задании.*"
      ]
    },
    {
      "cell_type": "code",
      "execution_count": 531,
      "id": "69621713-0cc5-4f1b-a1d7-bb144fa6148c",
      "metadata": {
        "id": "69621713-0cc5-4f1b-a1d7-bb144fa6148c"
      },
      "outputs": [],
      "source": [
        "# текст запроса\n",
        "query_6_3 = \"\"\" \n",
        "    SELECT COUNT(*)\n",
        "    FROM vacancies\n",
        "    WHERE   \n",
        "            (lower(name) LIKE '%data scientist%' OR \n",
        "            lower(name) LIKE '%data science%' OR\n",
        "            lower(name) LIKE '%исследователь данных%' OR\n",
        "            (name LIKE '%ML%' AND name NOT LIKE '%HTML%') OR\n",
        "            lower(name) LIKE '%machine learning%' OR\n",
        "            lower(name) LIKE '%машинн%обучен%' ) \n",
        "            \n",
        "            AND \n",
        "            \n",
        "            (lower(key_skills) LIKE '%sql%' OR \n",
        "             lower(key_skills) LIKE '%postgres%')\n",
        "\"\"\""
      ]
    },
    {
      "cell_type": "code",
      "execution_count": 532,
      "id": "alA8WEAAvGdf",
      "metadata": {
        "id": "alA8WEAAvGdf"
      },
      "outputs": [
        {
          "name": "stdout",
          "output_type": "stream",
          "text": [
            "Table query_6_3\n"
          ]
        },
        {
          "data": {
            "text/html": [
              "<div>\n",
              "<style scoped>\n",
              "    .dataframe tbody tr th:only-of-type {\n",
              "        vertical-align: middle;\n",
              "    }\n",
              "\n",
              "    .dataframe tbody tr th {\n",
              "        vertical-align: top;\n",
              "    }\n",
              "\n",
              "    .dataframe thead th {\n",
              "        text-align: right;\n",
              "    }\n",
              "</style>\n",
              "<table border=\"1\" class=\"dataframe\">\n",
              "  <thead>\n",
              "    <tr style=\"text-align: right;\">\n",
              "      <th></th>\n",
              "      <th>count</th>\n",
              "    </tr>\n",
              "  </thead>\n",
              "  <tbody>\n",
              "    <tr>\n",
              "      <th>0</th>\n",
              "      <td>201</td>\n",
              "    </tr>\n",
              "  </tbody>\n",
              "</table>\n",
              "</div>"
            ],
            "text/plain": [
              "   count\n",
              "0    201"
            ]
          },
          "metadata": {},
          "output_type": "display_data"
        }
      ],
      "source": [
        "# результат запроса\n",
        "df = pd.read_sql_query(query_6_3, connection)\n",
        "print(\"Table query_6_3\")\n",
        "display(df)"
      ]
    },
    {
      "cell_type": "markdown",
      "id": "1be1e9c6-37cf-4a5f-bfeb-04cab799dc80",
      "metadata": {
        "id": "1be1e9c6-37cf-4a5f-bfeb-04cab799dc80"
      },
      "source": [
        "4. Проверьте, насколько популярен Python в требованиях работодателей к DS.Для этого вычислите количество вакансий, в которых в качестве ключевого навыка указан Python.\n",
        "\n",
        "** Это можно сделать помощью запроса, аналогичного предыдущему.*"
      ]
    },
    {
      "cell_type": "code",
      "execution_count": 533,
      "id": "0036a355-9ccf-4564-8b01-73d8194297e7",
      "metadata": {
        "id": "0036a355-9ccf-4564-8b01-73d8194297e7"
      },
      "outputs": [],
      "source": [
        "# текст запроса\n",
        "query_6_4 = \"\"\" \n",
        "    SELECT COUNT(*)\n",
        "    FROM vacancies\n",
        "    WHERE   \n",
        "            (lower(name) LIKE '%data scientist%' OR \n",
        "            lower(name) LIKE '%data science%' OR\n",
        "            lower(name) LIKE '%исследователь данных%' OR\n",
        "            (name LIKE '%ML%' AND name NOT LIKE '%HTML%') OR\n",
        "            lower(name) LIKE '%machine learning%' OR\n",
        "            lower(name) LIKE '%машинн%обучен%' ) \n",
        "            \n",
        "            AND \n",
        "            \n",
        "            (lower(key_skills) LIKE '%python%')\n",
        "\"\"\""
      ]
    },
    {
      "cell_type": "code",
      "execution_count": 534,
      "id": "1i-5WyucvQ6v",
      "metadata": {
        "id": "1i-5WyucvQ6v"
      },
      "outputs": [
        {
          "name": "stdout",
          "output_type": "stream",
          "text": [
            "Table query_6_4\n"
          ]
        },
        {
          "data": {
            "text/html": [
              "<div>\n",
              "<style scoped>\n",
              "    .dataframe tbody tr th:only-of-type {\n",
              "        vertical-align: middle;\n",
              "    }\n",
              "\n",
              "    .dataframe tbody tr th {\n",
              "        vertical-align: top;\n",
              "    }\n",
              "\n",
              "    .dataframe thead th {\n",
              "        text-align: right;\n",
              "    }\n",
              "</style>\n",
              "<table border=\"1\" class=\"dataframe\">\n",
              "  <thead>\n",
              "    <tr style=\"text-align: right;\">\n",
              "      <th></th>\n",
              "      <th>count</th>\n",
              "    </tr>\n",
              "  </thead>\n",
              "  <tbody>\n",
              "    <tr>\n",
              "      <th>0</th>\n",
              "      <td>351</td>\n",
              "    </tr>\n",
              "  </tbody>\n",
              "</table>\n",
              "</div>"
            ],
            "text/plain": [
              "   count\n",
              "0    351"
            ]
          },
          "metadata": {},
          "output_type": "display_data"
        }
      ],
      "source": [
        "# результат запроса\n",
        "df = pd.read_sql_query(query_6_4, connection)\n",
        "print(\"Table query_6_4\")\n",
        "display(df)"
      ]
    },
    {
      "cell_type": "markdown",
      "id": "ec3c8db7-fa21-4a41-a994-1af63742a642",
      "metadata": {
        "id": "ec3c8db7-fa21-4a41-a994-1af63742a642"
      },
      "source": [
        "5. Сколько ключевых навыков в среднем указывают в вакансиях для DS?\n",
        "Ответ округлите до двух знаков после точки-разделителя."
      ]
    },
    {
      "cell_type": "code",
      "execution_count": 535,
      "id": "949132bc-d5b6-4611-8218-0b9a504d74f4",
      "metadata": {
        "id": "949132bc-d5b6-4611-8218-0b9a504d74f4"
      },
      "outputs": [],
      "source": [
        "# текст запроса\n",
        "query_6_5 = \"\"\" \n",
        "    SELECT \n",
        "        round(AVG(LENGTH(key_skills) + 1 - LENGTH(replace(key_skills, '\\t',''))),2)\n",
        "    FROM vacancies\n",
        "    WHERE   \n",
        "            (lower(name) LIKE '%data scientist%' OR \n",
        "            lower(name) LIKE '%data science%' OR\n",
        "            lower(name) LIKE '%исследователь данных%' OR\n",
        "            (name LIKE '%ML%' AND name NOT LIKE '%HTML%') OR\n",
        "            lower(name) LIKE '%machine learning%' OR\n",
        "            lower(name) LIKE '%машинн%обучен%' ) \n",
        "    \n",
        "\"\"\""
      ]
    },
    {
      "cell_type": "code",
      "execution_count": 536,
      "id": "a3V24Tvmviqk",
      "metadata": {
        "id": "a3V24Tvmviqk"
      },
      "outputs": [
        {
          "name": "stdout",
          "output_type": "stream",
          "text": [
            "Table query_6_5\n"
          ]
        },
        {
          "data": {
            "text/html": [
              "<div>\n",
              "<style scoped>\n",
              "    .dataframe tbody tr th:only-of-type {\n",
              "        vertical-align: middle;\n",
              "    }\n",
              "\n",
              "    .dataframe tbody tr th {\n",
              "        vertical-align: top;\n",
              "    }\n",
              "\n",
              "    .dataframe thead th {\n",
              "        text-align: right;\n",
              "    }\n",
              "</style>\n",
              "<table border=\"1\" class=\"dataframe\">\n",
              "  <thead>\n",
              "    <tr style=\"text-align: right;\">\n",
              "      <th></th>\n",
              "      <th>round</th>\n",
              "    </tr>\n",
              "  </thead>\n",
              "  <tbody>\n",
              "    <tr>\n",
              "      <th>0</th>\n",
              "      <td>6.41</td>\n",
              "    </tr>\n",
              "  </tbody>\n",
              "</table>\n",
              "</div>"
            ],
            "text/plain": [
              "   round\n",
              "0   6.41"
            ]
          },
          "metadata": {},
          "output_type": "display_data"
        }
      ],
      "source": [
        "# результат запроса\n",
        "df = pd.read_sql_query(query_6_5, connection)\n",
        "print(\"Table query_6_5\")\n",
        "display(df)"
      ]
    },
    {
      "cell_type": "markdown",
      "id": "1041c17a-ca8f-4543-a0ca-32778914fb00",
      "metadata": {
        "id": "1041c17a-ca8f-4543-a0ca-32778914fb00"
      },
      "source": [
        "6. Напишите запрос, позволяющий вычислить, какую зарплату для DS в **среднем** указывают для каждого типа требуемого опыта (уникальное значение из поля *experience*). \n",
        "\n",
        "При решении задачи примите во внимание следующее:\n",
        "1. Рассматриваем только вакансии, у которых заполнено хотя бы одно из двух полей с зарплатой.\n",
        "2. Если заполнены оба поля с зарплатой, то считаем зарплату по каждой вакансии как сумму двух полей, делённую на 2. Если заполнено только одно из полей, то его и считаем зарплатой по вакансии.\n",
        "3. Если в расчётах участвует null, в результате он тоже даст null (посмотрите, что возвращает запрос select 1 + null). Чтобы избежать этой ситуацию, мы воспользуемся функцией [coalesce](https://postgrespro.ru/docs/postgresql/9.5/functions-conditional#functions-coalesce-nvl-ifnull), которая заменит null на значение, которое мы передадим. Например, посмотрите, что возвращает запрос `select 1 + coalesce(null, 0)`\n",
        "\n",
        "Выясните, на какую зарплату в среднем может рассчитывать дата-сайентист с опытом работы от 3 до 6 лет. Результат округлите до целого числа. "
      ]
    },
    {
      "cell_type": "code",
      "execution_count": 537,
      "id": "6a743d39-5204-48d3-8271-b9f88e68d40e",
      "metadata": {
        "id": "6a743d39-5204-48d3-8271-b9f88e68d40e"
      },
      "outputs": [],
      "source": [
        "# текст запроса\n",
        "query_6_6 = \"\"\"\n",
        "    SELECT \n",
        "        experience,\n",
        "        round(AVG((coalesce(salary_from, salary_to) + coalesce(salary_to, salary_from))/2))\n",
        "    FROM vacancies\n",
        "    WHERE   \n",
        "            (lower(name) LIKE '%data scientist%' OR \n",
        "            lower(name) LIKE '%data science%' OR\n",
        "            lower(name) LIKE '%исследователь данных%' OR\n",
        "            (name LIKE '%ML%' AND name NOT LIKE '%HTML%') OR\n",
        "            lower(name) LIKE '%machine learning%' OR\n",
        "            lower(name) LIKE '%машинн%обучен%' ) \n",
        "            AND\n",
        "            (salary_from IS NOT NULL OR salary_to IS NOT NULL)\n",
        "    GROUP BY experience\n",
        "\"\"\""
      ]
    },
    {
      "cell_type": "code",
      "execution_count": 538,
      "id": "aRIJ0mZEwU1_",
      "metadata": {
        "id": "aRIJ0mZEwU1_"
      },
      "outputs": [
        {
          "name": "stdout",
          "output_type": "stream",
          "text": [
            "Table query_6_6\n",
            "Datascientists salaries\n"
          ]
        },
        {
          "data": {
            "text/html": [
              "<div>\n",
              "<style scoped>\n",
              "    .dataframe tbody tr th:only-of-type {\n",
              "        vertical-align: middle;\n",
              "    }\n",
              "\n",
              "    .dataframe tbody tr th {\n",
              "        vertical-align: top;\n",
              "    }\n",
              "\n",
              "    .dataframe thead th {\n",
              "        text-align: right;\n",
              "    }\n",
              "</style>\n",
              "<table border=\"1\" class=\"dataframe\">\n",
              "  <thead>\n",
              "    <tr style=\"text-align: right;\">\n",
              "      <th></th>\n",
              "      <th>experience</th>\n",
              "      <th>round</th>\n",
              "    </tr>\n",
              "  </thead>\n",
              "  <tbody>\n",
              "    <tr>\n",
              "      <th>0</th>\n",
              "      <td>Нет опыта</td>\n",
              "      <td>74643.0</td>\n",
              "    </tr>\n",
              "    <tr>\n",
              "      <th>1</th>\n",
              "      <td>От 1 года до 3 лет</td>\n",
              "      <td>139675.0</td>\n",
              "    </tr>\n",
              "    <tr>\n",
              "      <th>2</th>\n",
              "      <td>От 3 до 6 лет</td>\n",
              "      <td>243115.0</td>\n",
              "    </tr>\n",
              "  </tbody>\n",
              "</table>\n",
              "</div>"
            ],
            "text/plain": [
              "           experience     round\n",
              "0           Нет опыта   74643.0\n",
              "1  От 1 года до 3 лет  139675.0\n",
              "2       От 3 до 6 лет  243115.0"
            ]
          },
          "metadata": {},
          "output_type": "display_data"
        },
        {
          "name": "stdout",
          "output_type": "stream",
          "text": [
            "Average salaries in database\n"
          ]
        },
        {
          "data": {
            "text/html": [
              "<div>\n",
              "<style scoped>\n",
              "    .dataframe tbody tr th:only-of-type {\n",
              "        vertical-align: middle;\n",
              "    }\n",
              "\n",
              "    .dataframe tbody tr th {\n",
              "        vertical-align: top;\n",
              "    }\n",
              "\n",
              "    .dataframe thead th {\n",
              "        text-align: right;\n",
              "    }\n",
              "</style>\n",
              "<table border=\"1\" class=\"dataframe\">\n",
              "  <thead>\n",
              "    <tr style=\"text-align: right;\">\n",
              "      <th></th>\n",
              "      <th>experience</th>\n",
              "      <th>round</th>\n",
              "    </tr>\n",
              "  </thead>\n",
              "  <tbody>\n",
              "    <tr>\n",
              "      <th>0</th>\n",
              "      <td>Более 6 лет</td>\n",
              "      <td>166256.0</td>\n",
              "    </tr>\n",
              "    <tr>\n",
              "      <th>1</th>\n",
              "      <td>От 3 до 6 лет</td>\n",
              "      <td>133211.0</td>\n",
              "    </tr>\n",
              "    <tr>\n",
              "      <th>2</th>\n",
              "      <td>Нет опыта</td>\n",
              "      <td>40472.0</td>\n",
              "    </tr>\n",
              "    <tr>\n",
              "      <th>3</th>\n",
              "      <td>От 1 года до 3 лет</td>\n",
              "      <td>76541.0</td>\n",
              "    </tr>\n",
              "  </tbody>\n",
              "</table>\n",
              "</div>"
            ],
            "text/plain": [
              "           experience     round\n",
              "0         Более 6 лет  166256.0\n",
              "1       От 3 до 6 лет  133211.0\n",
              "2           Нет опыта   40472.0\n",
              "3  От 1 года до 3 лет   76541.0"
            ]
          },
          "metadata": {},
          "output_type": "display_data"
        }
      ],
      "source": [
        "# результат запроса\n",
        "df = pd.read_sql_query(query_6_6, connection)\n",
        "print(\"Table query_6_6\")\n",
        "print(\"Datascientists salaries\")\n",
        "display(df)\n",
        "\n",
        "query = \"\"\"\n",
        "    SELECT \n",
        "        experience,\n",
        "        round(AVG((coalesce(salary_from, salary_to) + coalesce(salary_to, salary_from))/2))\n",
        "    FROM vacancies\n",
        "    GROUP BY experience\n",
        "\"\"\"\n",
        "\n",
        "df = pd.read_sql_query(query, connection)\n",
        "print(\"Average salaries in database\")\n",
        "display(df)"
      ]
    },
    {
      "cell_type": "markdown",
      "id": "6a7892b4-4113-4746-adce-18aa2844f18e",
      "metadata": {
        "id": "6a7892b4-4113-4746-adce-18aa2844f18e"
      },
      "source": [
        "***"
      ]
    },
    {
      "attachments": {},
      "cell_type": "markdown",
      "id": "UjLWUptVwY1o",
      "metadata": {
        "id": "UjLWUptVwY1o"
      },
      "source": [
        "# Выводы по предметному анализу\n",
        "- Непосредственно с datascience связано 1771 вакансий, чуть меньше 5% от всех вакансий в базе. Можно говорить о популярности направления.\n",
        "- Для начинающих специалистов есть 51 вакансия, чаще работодателям нужны опытные специалисты.\n",
        "- В среднем у вакансии около 6 ключевых навыков, но они могут быть сильно взаимосвязаны.\n",
        "- При выводе таблицы с ключевыми навыками мною было замечено, что различными навыками указывались python, numpy, pandas и т.п. Хотя numpy и pandas являются пакетами python, то есть в базе наблюдается неявное дублирование навыков.\n",
        "- В качестве ключевых навыков датасайентиста часто указывают python, sql, postgres. \n",
        "- Уровень зарплат датасайентистов превосходит средние значения зарплат в базе\n",
        "- Отсутствие вакансий датасайнтистов с опытом более 6 лет, говорит о недавнем возникновении профессии."
      ]
    },
    {
      "attachments": {},
      "cell_type": "markdown",
      "id": "cbbb4341",
      "metadata": {},
      "source": [
        "# Дополнительные исследования\n",
        "1. Выясним ключевые навыки датасайентиста"
      ]
    },
    {
      "cell_type": "code",
      "execution_count": 539,
      "id": "1e2353bd",
      "metadata": {},
      "outputs": [],
      "source": [
        "query = \"\"\" \n",
        "    SELECT *\n",
        "    FROM vacancies\n",
        "    WHERE   \n",
        "            (lower(name) LIKE '%data scientist%' OR \n",
        "            lower(name) LIKE '%data science%' OR\n",
        "            lower(name) LIKE '%исследователь данных%' OR\n",
        "            (name LIKE '%ML%' AND name NOT LIKE '%HTML%') OR\n",
        "            lower(name) LIKE '%machine learning%' OR\n",
        "            lower(name) LIKE '%машинн%обучен%' ) \n",
        "\"\"\"\n",
        "\n",
        "df = pd.read_sql_query(query, connection)"
      ]
    },
    {
      "cell_type": "code",
      "execution_count": 540,
      "id": "e344662c",
      "metadata": {},
      "outputs": [
        {
          "name": "stdout",
          "output_type": "stream",
          "text": [
            "[('python', 348),\n",
            " ('sql', 191),\n",
            " ('machine learning', 140),\n",
            " ('git', 66),\n",
            " ('data science', 64),\n",
            " ('математическая статистика', 62),\n",
            " ('pytorch', 61),\n",
            " ('pandas', 55),\n",
            " ('data analysis', 54),\n",
            " ('ml', 49),\n",
            " ('английский язык', 48),\n",
            " ('linux', 47),\n",
            " ('анализ данных', 46),\n",
            " ('tensorflow', 42),\n",
            " ('nlp', 42),\n",
            " ('big data', 42),\n",
            " ('математическое моделирование', 41),\n",
            " ('docker', 41),\n",
            " ('статистический анализ', 40),\n",
            " ('c++', 39)]\n"
          ]
        }
      ],
      "source": [
        "skills_cnt = Counter()\n",
        "for skills in df['key_skills']:\n",
        "    if skills:\n",
        "        skills_cnt.update(map(lambda x: x.strip().lower(), skills.split('\\t')))\n",
        "        \n",
        "pprint(skills_cnt.most_common()[:20])"
      ]
    },
    {
      "attachments": {},
      "cell_type": "markdown",
      "id": "e530935a",
      "metadata": {},
      "source": [
        "### Вывод:\n",
        "- В ключевых навыках есть разнописания одних и тех же навыков, на это стоит обращать внимание прежде, чем делать выводы (machine learning и ml, например). \n",
        "- Можно утверждать, что ключевые технологии-навыки без которых, навряд ли можно быть хорошим datascience специалистом это знание python, sql, git. Скорее без них вообще нельзя стать datascientistом.\n",
        "- Так же в 20-ку технологий входят: pytorch, linux, tensorflow.\n",
        "- Английский можно отнести к softskills, так как его уровень влияет на скорость восприятия и изучения новых технологий, документации. "
      ]
    },
    {
      "attachments": {},
      "cell_type": "markdown",
      "id": "e59c5fa3",
      "metadata": {},
      "source": [
        "2. Рассмотрим зависимость уровня специалиста от его опыта работы."
      ]
    },
    {
      "cell_type": "code",
      "execution_count": 541,
      "id": "465e061e",
      "metadata": {},
      "outputs": [],
      "source": [
        "# нужно будет создать столбец с уровнем специалиста\n",
        "def level_parser(text):\n",
        "    for word in text.split():\n",
        "        if word.strip('+()').lower() == 'junior':\n",
        "            return 'junior'\n",
        "        if word.strip('+()').lower() == 'middle':\n",
        "            return 'middle'\n",
        "        if word.strip('+()').lower() == 'senior':\n",
        "            return 'senior'\n",
        "        if word.strip('+()').lower() == 'lead':\n",
        "            return 'lead'\n",
        "    return 'other'\n",
        "\n",
        "df['level'] = df['name'].apply(level_parser)"
      ]
    },
    {
      "cell_type": "code",
      "execution_count": 542,
      "id": "3d5ccd03",
      "metadata": {},
      "outputs": [
        {
          "data": {
            "text/html": [
              "<div>\n",
              "<style scoped>\n",
              "    .dataframe tbody tr th:only-of-type {\n",
              "        vertical-align: middle;\n",
              "    }\n",
              "\n",
              "    .dataframe tbody tr th {\n",
              "        vertical-align: top;\n",
              "    }\n",
              "\n",
              "    .dataframe thead th {\n",
              "        text-align: right;\n",
              "    }\n",
              "</style>\n",
              "<table border=\"1\" class=\"dataframe\">\n",
              "  <thead>\n",
              "    <tr style=\"text-align: right;\">\n",
              "      <th></th>\n",
              "      <th>id</th>\n",
              "      <th>name</th>\n",
              "      <th>key_skills</th>\n",
              "      <th>schedule</th>\n",
              "      <th>experience</th>\n",
              "      <th>employment</th>\n",
              "      <th>salary_from</th>\n",
              "      <th>salary_to</th>\n",
              "      <th>area_id</th>\n",
              "      <th>employer_id</th>\n",
              "      <th>level</th>\n",
              "    </tr>\n",
              "  </thead>\n",
              "  <tbody>\n",
              "    <tr>\n",
              "      <th>0</th>\n",
              "      <td>50533416</td>\n",
              "      <td>Junior+ CV/ML developer</td>\n",
              "      <td>Python\\tSQL\\tРабота в команде\\tOpenCV\\tML</td>\n",
              "      <td>Гибкий график</td>\n",
              "      <td>От 1 года до 3 лет</td>\n",
              "      <td>Полная занятость</td>\n",
              "      <td>NaN</td>\n",
              "      <td>NaN</td>\n",
              "      <td>4</td>\n",
              "      <td>80190</td>\n",
              "      <td>junior</td>\n",
              "    </tr>\n",
              "    <tr>\n",
              "      <th>1</th>\n",
              "      <td>54824572</td>\n",
              "      <td>Data Scientist</td>\n",
              "      <td>Oracle Pl/SQL\\tБазы данных\\tMachine Learning\\t...</td>\n",
              "      <td>Полный день</td>\n",
              "      <td>От 1 года до 3 лет</td>\n",
              "      <td>Полная занятость</td>\n",
              "      <td>NaN</td>\n",
              "      <td>NaN</td>\n",
              "      <td>160</td>\n",
              "      <td>111304</td>\n",
              "      <td>other</td>\n",
              "    </tr>\n",
              "    <tr>\n",
              "      <th>2</th>\n",
              "      <td>54825318</td>\n",
              "      <td>Data Scientist (Junior+)</td>\n",
              "      <td>Python\\tOpenCV\\tTensorflow\\tComputer Vision\\tН...</td>\n",
              "      <td>Полный день</td>\n",
              "      <td>От 1 года до 3 лет</td>\n",
              "      <td>Полная занятость</td>\n",
              "      <td>50000.0</td>\n",
              "      <td>70000.0</td>\n",
              "      <td>72</td>\n",
              "      <td>215942</td>\n",
              "      <td>junior</td>\n",
              "    </tr>\n",
              "    <tr>\n",
              "      <th>3</th>\n",
              "      <td>66120847</td>\n",
              "      <td>AI/ML Senior Engineer</td>\n",
              "      <td>Python\\tFlask\\tLinux\\tAWS\\tGit</td>\n",
              "      <td>Гибкий график</td>\n",
              "      <td>От 3 до 6 лет</td>\n",
              "      <td>Полная занятость</td>\n",
              "      <td>NaN</td>\n",
              "      <td>NaN</td>\n",
              "      <td>2759</td>\n",
              "      <td>204511</td>\n",
              "      <td>senior</td>\n",
              "    </tr>\n",
              "    <tr>\n",
              "      <th>4</th>\n",
              "      <td>55351147</td>\n",
              "      <td>Data Scientist</td>\n",
              "      <td>Python\\tSQL\\tNLP\\tScikit-learn\\tMachine Learning</td>\n",
              "      <td>Полный день</td>\n",
              "      <td>От 1 года до 3 лет</td>\n",
              "      <td>Полная занятость</td>\n",
              "      <td>NaN</td>\n",
              "      <td>NaN</td>\n",
              "      <td>53</td>\n",
              "      <td>3127</td>\n",
              "      <td>other</td>\n",
              "    </tr>\n",
              "  </tbody>\n",
              "</table>\n",
              "</div>"
            ],
            "text/plain": [
              "         id                      name  \\\n",
              "0  50533416   Junior+ CV/ML developer   \n",
              "1  54824572            Data Scientist   \n",
              "2  54825318  Data Scientist (Junior+)   \n",
              "3  66120847     AI/ML Senior Engineer   \n",
              "4  55351147            Data Scientist   \n",
              "\n",
              "                                          key_skills       schedule  \\\n",
              "0          Python\\tSQL\\tРабота в команде\\tOpenCV\\tML  Гибкий график   \n",
              "1  Oracle Pl/SQL\\tБазы данных\\tMachine Learning\\t...    Полный день   \n",
              "2  Python\\tOpenCV\\tTensorflow\\tComputer Vision\\tН...    Полный день   \n",
              "3                     Python\\tFlask\\tLinux\\tAWS\\tGit  Гибкий график   \n",
              "4   Python\\tSQL\\tNLP\\tScikit-learn\\tMachine Learning    Полный день   \n",
              "\n",
              "           experience        employment  salary_from  salary_to  area_id  \\\n",
              "0  От 1 года до 3 лет  Полная занятость          NaN        NaN        4   \n",
              "1  От 1 года до 3 лет  Полная занятость          NaN        NaN      160   \n",
              "2  От 1 года до 3 лет  Полная занятость      50000.0    70000.0       72   \n",
              "3       От 3 до 6 лет  Полная занятость          NaN        NaN     2759   \n",
              "4  От 1 года до 3 лет  Полная занятость          NaN        NaN       53   \n",
              "\n",
              "   employer_id   level  \n",
              "0        80190  junior  \n",
              "1       111304   other  \n",
              "2       215942  junior  \n",
              "3       204511  senior  \n",
              "4         3127   other  "
            ]
          },
          "execution_count": 542,
          "metadata": {},
          "output_type": "execute_result"
        }
      ],
      "source": [
        "df.head()"
      ]
    },
    {
      "cell_type": "code",
      "execution_count": 543,
      "id": "28519315",
      "metadata": {},
      "outputs": [],
      "source": [
        "# сгруппируем вакансии по опыту и уровню работы\n",
        "grouped_df = df.groupby(['experience','level'])['id'].agg(count = 'count')\n",
        "# создадим сводную таблицу, с числом предложенных вакансий\n",
        "table = grouped_df.pivot_table(\n",
        "    values='count', \n",
        "    columns='level', \n",
        "    index='experience',\n",
        "    fill_value = 0\n",
        ")"
      ]
    },
    {
      "cell_type": "code",
      "execution_count": 544,
      "id": "0bb1c432",
      "metadata": {},
      "outputs": [
        {
          "data": {
            "text/html": [
              "<div>\n",
              "<style scoped>\n",
              "    .dataframe tbody tr th:only-of-type {\n",
              "        vertical-align: middle;\n",
              "    }\n",
              "\n",
              "    .dataframe tbody tr th {\n",
              "        vertical-align: top;\n",
              "    }\n",
              "\n",
              "    .dataframe thead th {\n",
              "        text-align: right;\n",
              "    }\n",
              "</style>\n",
              "<table border=\"1\" class=\"dataframe\">\n",
              "  <thead>\n",
              "    <tr style=\"text-align: right;\">\n",
              "      <th>level</th>\n",
              "      <th>junior</th>\n",
              "      <th>lead</th>\n",
              "      <th>middle</th>\n",
              "      <th>senior</th>\n",
              "    </tr>\n",
              "    <tr>\n",
              "      <th>experience</th>\n",
              "      <th></th>\n",
              "      <th></th>\n",
              "      <th></th>\n",
              "      <th></th>\n",
              "    </tr>\n",
              "  </thead>\n",
              "  <tbody>\n",
              "    <tr>\n",
              "      <th>Более 6 лет</th>\n",
              "      <td>0</td>\n",
              "      <td>5</td>\n",
              "      <td>0</td>\n",
              "      <td>16</td>\n",
              "    </tr>\n",
              "    <tr>\n",
              "      <th>Нет опыта</th>\n",
              "      <td>10</td>\n",
              "      <td>0</td>\n",
              "      <td>0</td>\n",
              "      <td>2</td>\n",
              "    </tr>\n",
              "    <tr>\n",
              "      <th>От 1 года до 3 лет</th>\n",
              "      <td>20</td>\n",
              "      <td>3</td>\n",
              "      <td>14</td>\n",
              "      <td>8</td>\n",
              "    </tr>\n",
              "    <tr>\n",
              "      <th>От 3 до 6 лет</th>\n",
              "      <td>0</td>\n",
              "      <td>15</td>\n",
              "      <td>12</td>\n",
              "      <td>20</td>\n",
              "    </tr>\n",
              "  </tbody>\n",
              "</table>\n",
              "</div>"
            ],
            "text/plain": [
              "level               junior  lead  middle  senior\n",
              "experience                                      \n",
              "Более 6 лет              0     5       0      16\n",
              "Нет опыта               10     0       0       2\n",
              "От 1 года до 3 лет      20     3      14       8\n",
              "От 3 до 6 лет            0    15      12      20"
            ]
          },
          "execution_count": 544,
          "metadata": {},
          "output_type": "execute_result"
        }
      ],
      "source": [
        "#избавимся от вакансий с неизвестным уровнем компетенций\n",
        "table.drop('other', axis=1,inplace=True)\n",
        "table"
      ]
    },
    {
      "cell_type": "code",
      "execution_count": 546,
      "id": "a81be6da",
      "metadata": {},
      "outputs": [
        {
          "data": {
            "image/png": "[encoded data removed]",
            "text/plain": [
              "<Figure size 432x288 with 2 Axes>"
            ]
          },
          "metadata": {
            "needs_background": "light"
          },
          "output_type": "display_data"
        }
      ],
      "source": [
        "heatmap = sns.heatmap(data = table, cmap='YlGnBu')\n",
        "heatmap.set_title(\"Тепловая карта числа вакансий \\n от уровня специалиста и его опыта\")\n",
        "pass"
      ]
    },
    {
      "attachments": {},
      "cell_type": "markdown",
      "id": "d4a54719",
      "metadata": {},
      "source": [
        "Выводы по графику:\n",
        "- junior-специалисты это специалисты без опыта либо с опытом до 3 лет\n",
        "- middle-специалисты имеют опыт от 1 до 6 лет\n",
        "- senior-ы имеют опыт от 3 лет и выше \n",
        "- lead-ы от 3 до 6.\n"
      ]
    },
    {
      "cell_type": "markdown",
      "id": "c0ED6fh7wiBT",
      "metadata": {
        "id": "c0ED6fh7wiBT"
      },
      "source": [
        "# Общий вывод по проекту"
      ]
    },
    {
      "attachments": {},
      "cell_type": "markdown",
      "id": "53add1c7",
      "metadata": {},
      "source": [
        "Выясним каких вакансий много для DS-специальности по типу занятости и рабочему графику."
      ]
    },
    {
      "cell_type": "code",
      "execution_count": 549,
      "id": "765689e7",
      "metadata": {},
      "outputs": [
        {
          "data": {
            "text/html": [
              "<div>\n",
              "<style scoped>\n",
              "    .dataframe tbody tr th:only-of-type {\n",
              "        vertical-align: middle;\n",
              "    }\n",
              "\n",
              "    .dataframe tbody tr th {\n",
              "        vertical-align: top;\n",
              "    }\n",
              "\n",
              "    .dataframe thead th {\n",
              "        text-align: right;\n",
              "    }\n",
              "</style>\n",
              "<table border=\"1\" class=\"dataframe\">\n",
              "  <thead>\n",
              "    <tr style=\"text-align: right;\">\n",
              "      <th></th>\n",
              "      <th>schedule</th>\n",
              "      <th>employment</th>\n",
              "      <th>count</th>\n",
              "    </tr>\n",
              "  </thead>\n",
              "  <tbody>\n",
              "    <tr>\n",
              "      <th>0</th>\n",
              "      <td>Полный день</td>\n",
              "      <td>Полная занятость</td>\n",
              "      <td>319</td>\n",
              "    </tr>\n",
              "    <tr>\n",
              "      <th>1</th>\n",
              "      <td>Удаленная работа</td>\n",
              "      <td>Полная занятость</td>\n",
              "      <td>110</td>\n",
              "    </tr>\n",
              "    <tr>\n",
              "      <th>2</th>\n",
              "      <td>Гибкий график</td>\n",
              "      <td>Полная занятость</td>\n",
              "      <td>37</td>\n",
              "    </tr>\n",
              "    <tr>\n",
              "      <th>3</th>\n",
              "      <td>Гибкий график</td>\n",
              "      <td>Частичная занятость</td>\n",
              "      <td>4</td>\n",
              "    </tr>\n",
              "    <tr>\n",
              "      <th>4</th>\n",
              "      <td>Удаленная работа</td>\n",
              "      <td>Частичная занятость</td>\n",
              "      <td>3</td>\n",
              "    </tr>\n",
              "    <tr>\n",
              "      <th>5</th>\n",
              "      <td>Полный день</td>\n",
              "      <td>Стажировка</td>\n",
              "      <td>2</td>\n",
              "    </tr>\n",
              "    <tr>\n",
              "      <th>6</th>\n",
              "      <td>Удаленная работа</td>\n",
              "      <td>Проектная работа</td>\n",
              "      <td>2</td>\n",
              "    </tr>\n",
              "    <tr>\n",
              "      <th>7</th>\n",
              "      <td>Гибкий график</td>\n",
              "      <td>Стажировка</td>\n",
              "      <td>2</td>\n",
              "    </tr>\n",
              "    <tr>\n",
              "      <th>8</th>\n",
              "      <td>Полный день</td>\n",
              "      <td>Частичная занятость</td>\n",
              "      <td>1</td>\n",
              "    </tr>\n",
              "  </tbody>\n",
              "</table>\n",
              "</div>"
            ],
            "text/plain": [
              "           schedule           employment  count\n",
              "0       Полный день     Полная занятость    319\n",
              "1  Удаленная работа     Полная занятость    110\n",
              "2     Гибкий график     Полная занятость     37\n",
              "3     Гибкий график  Частичная занятость      4\n",
              "4  Удаленная работа  Частичная занятость      3\n",
              "5       Полный день           Стажировка      2\n",
              "6  Удаленная работа     Проектная работа      2\n",
              "7     Гибкий график           Стажировка      2\n",
              "8       Полный день  Частичная занятость      1"
            ]
          },
          "metadata": {},
          "output_type": "display_data"
        }
      ],
      "source": [
        "query = f\"\"\"\n",
        "    SELECT\n",
        "        schedule,\n",
        "        employment,\n",
        "        COUNT(*) as count\n",
        "    FROM vacancies\n",
        "    WHERE   \n",
        "            (lower(name) LIKE '%data scientist%' OR \n",
        "            lower(name) LIKE '%data science%' OR\n",
        "            lower(name) LIKE '%исследователь данных%' OR\n",
        "            (name LIKE '%ML%' AND name NOT LIKE '%HTML%') OR\n",
        "            lower(name) LIKE '%machine learning%' OR\n",
        "            lower(name) LIKE '%машинн%обучен%' ) \n",
        "    GROUP BY schedule, employment \n",
        "    ORDER BY COUNT(*) DESC\n",
        "\"\"\"\n",
        "\n",
        "df = pd.read_sql_query(query, connection)\n",
        "display(df)"
      ]
    },
    {
      "cell_type": "markdown",
      "id": "d45f6c31",
      "metadata": {},
      "source": [
        "Каково число DS вакансий в разных городах? "
      ]
    },
    {
      "cell_type": "code",
      "execution_count": 552,
      "id": "5e95ba14",
      "metadata": {},
      "outputs": [
        {
          "data": {
            "text/html": [
              "<div>\n",
              "<style scoped>\n",
              "    .dataframe tbody tr th:only-of-type {\n",
              "        vertical-align: middle;\n",
              "    }\n",
              "\n",
              "    .dataframe tbody tr th {\n",
              "        vertical-align: top;\n",
              "    }\n",
              "\n",
              "    .dataframe thead th {\n",
              "        text-align: right;\n",
              "    }\n",
              "</style>\n",
              "<table border=\"1\" class=\"dataframe\">\n",
              "  <thead>\n",
              "    <tr style=\"text-align: right;\">\n",
              "      <th></th>\n",
              "      <th>area</th>\n",
              "      <th>count</th>\n",
              "    </tr>\n",
              "  </thead>\n",
              "  <tbody>\n",
              "    <tr>\n",
              "      <th>0</th>\n",
              "      <td>Москва</td>\n",
              "      <td>274</td>\n",
              "    </tr>\n",
              "    <tr>\n",
              "      <th>1</th>\n",
              "      <td>Санкт-Петербург</td>\n",
              "      <td>49</td>\n",
              "    </tr>\n",
              "    <tr>\n",
              "      <th>2</th>\n",
              "      <td>Россия</td>\n",
              "      <td>34</td>\n",
              "    </tr>\n",
              "    <tr>\n",
              "      <th>3</th>\n",
              "      <td>Минск</td>\n",
              "      <td>20</td>\n",
              "    </tr>\n",
              "    <tr>\n",
              "      <th>4</th>\n",
              "      <td>Новосибирск</td>\n",
              "      <td>11</td>\n",
              "    </tr>\n",
              "    <tr>\n",
              "      <th>5</th>\n",
              "      <td>Екатеринбург</td>\n",
              "      <td>11</td>\n",
              "    </tr>\n",
              "    <tr>\n",
              "      <th>6</th>\n",
              "      <td>Нижний Новгород</td>\n",
              "      <td>9</td>\n",
              "    </tr>\n",
              "    <tr>\n",
              "      <th>7</th>\n",
              "      <td>Казань</td>\n",
              "      <td>9</td>\n",
              "    </tr>\n",
              "    <tr>\n",
              "      <th>8</th>\n",
              "      <td>Мальта</td>\n",
              "      <td>9</td>\n",
              "    </tr>\n",
              "    <tr>\n",
              "      <th>9</th>\n",
              "      <td>Алматы</td>\n",
              "      <td>7</td>\n",
              "    </tr>\n",
              "    <tr>\n",
              "      <th>10</th>\n",
              "      <td>Казахстан</td>\n",
              "      <td>6</td>\n",
              "    </tr>\n",
              "    <tr>\n",
              "      <th>11</th>\n",
              "      <td>Нур-Султан</td>\n",
              "      <td>4</td>\n",
              "    </tr>\n",
              "    <tr>\n",
              "      <th>12</th>\n",
              "      <td>Владивосток</td>\n",
              "      <td>4</td>\n",
              "    </tr>\n",
              "    <tr>\n",
              "      <th>13</th>\n",
              "      <td>Рязань</td>\n",
              "      <td>3</td>\n",
              "    </tr>\n",
              "    <tr>\n",
              "      <th>14</th>\n",
              "      <td>Самара</td>\n",
              "      <td>3</td>\n",
              "    </tr>\n",
              "    <tr>\n",
              "      <th>15</th>\n",
              "      <td>Вологда</td>\n",
              "      <td>2</td>\n",
              "    </tr>\n",
              "    <tr>\n",
              "      <th>16</th>\n",
              "      <td>Ижевск</td>\n",
              "      <td>2</td>\n",
              "    </tr>\n",
              "    <tr>\n",
              "      <th>17</th>\n",
              "      <td>Ташкент</td>\n",
              "      <td>2</td>\n",
              "    </tr>\n",
              "    <tr>\n",
              "      <th>18</th>\n",
              "      <td>Воронеж</td>\n",
              "      <td>2</td>\n",
              "    </tr>\n",
              "    <tr>\n",
              "      <th>19</th>\n",
              "      <td>Московская область</td>\n",
              "      <td>2</td>\n",
              "    </tr>\n",
              "    <tr>\n",
              "      <th>20</th>\n",
              "      <td>Челябинская область</td>\n",
              "      <td>1</td>\n",
              "    </tr>\n",
              "    <tr>\n",
              "      <th>21</th>\n",
              "      <td>Барнаул</td>\n",
              "      <td>1</td>\n",
              "    </tr>\n",
              "    <tr>\n",
              "      <th>22</th>\n",
              "      <td>Белгород</td>\n",
              "      <td>1</td>\n",
              "    </tr>\n",
              "    <tr>\n",
              "      <th>23</th>\n",
              "      <td>Кемерово</td>\n",
              "      <td>1</td>\n",
              "    </tr>\n",
              "    <tr>\n",
              "      <th>24</th>\n",
              "      <td>Кострома</td>\n",
              "      <td>1</td>\n",
              "    </tr>\n",
              "    <tr>\n",
              "      <th>25</th>\n",
              "      <td>Краснодар</td>\n",
              "      <td>1</td>\n",
              "    </tr>\n",
              "    <tr>\n",
              "      <th>26</th>\n",
              "      <td>Набережные Челны</td>\n",
              "      <td>1</td>\n",
              "    </tr>\n",
              "    <tr>\n",
              "      <th>27</th>\n",
              "      <td>Нижегородская область</td>\n",
              "      <td>1</td>\n",
              "    </tr>\n",
              "    <tr>\n",
              "      <th>28</th>\n",
              "      <td>Обнинск</td>\n",
              "      <td>1</td>\n",
              "    </tr>\n",
              "    <tr>\n",
              "      <th>29</th>\n",
              "      <td>Омск</td>\n",
              "      <td>1</td>\n",
              "    </tr>\n",
              "    <tr>\n",
              "      <th>30</th>\n",
              "      <td>Переславль-Залесский</td>\n",
              "      <td>1</td>\n",
              "    </tr>\n",
              "    <tr>\n",
              "      <th>31</th>\n",
              "      <td>Пермь</td>\n",
              "      <td>1</td>\n",
              "    </tr>\n",
              "    <tr>\n",
              "      <th>32</th>\n",
              "      <td>Петрозаводск</td>\n",
              "      <td>1</td>\n",
              "    </tr>\n",
              "    <tr>\n",
              "      <th>33</th>\n",
              "      <td>Ростов-на-Дону</td>\n",
              "      <td>1</td>\n",
              "    </tr>\n",
              "    <tr>\n",
              "      <th>34</th>\n",
              "      <td>Томск</td>\n",
              "      <td>1</td>\n",
              "    </tr>\n",
              "    <tr>\n",
              "      <th>35</th>\n",
              "      <td>Тюмень</td>\n",
              "      <td>1</td>\n",
              "    </tr>\n",
              "    <tr>\n",
              "      <th>36</th>\n",
              "      <td>Уфа</td>\n",
              "      <td>1</td>\n",
              "    </tr>\n",
              "  </tbody>\n",
              "</table>\n",
              "</div>"
            ],
            "text/plain": [
              "                     area  count\n",
              "0                  Москва    274\n",
              "1         Санкт-Петербург     49\n",
              "2                  Россия     34\n",
              "3                   Минск     20\n",
              "4             Новосибирск     11\n",
              "5            Екатеринбург     11\n",
              "6         Нижний Новгород      9\n",
              "7                  Казань      9\n",
              "8                  Мальта      9\n",
              "9                  Алматы      7\n",
              "10              Казахстан      6\n",
              "11             Нур-Султан      4\n",
              "12            Владивосток      4\n",
              "13                 Рязань      3\n",
              "14                 Самара      3\n",
              "15                Вологда      2\n",
              "16                 Ижевск      2\n",
              "17                Ташкент      2\n",
              "18                Воронеж      2\n",
              "19     Московская область      2\n",
              "20    Челябинская область      1\n",
              "21                Барнаул      1\n",
              "22               Белгород      1\n",
              "23               Кемерово      1\n",
              "24               Кострома      1\n",
              "25              Краснодар      1\n",
              "26       Набережные Челны      1\n",
              "27  Нижегородская область      1\n",
              "28                Обнинск      1\n",
              "29                   Омск      1\n",
              "30   Переславль-Залесский      1\n",
              "31                  Пермь      1\n",
              "32           Петрозаводск      1\n",
              "33         Ростов-на-Дону      1\n",
              "34                  Томск      1\n",
              "35                 Тюмень      1\n",
              "36                    Уфа      1"
            ]
          },
          "metadata": {},
          "output_type": "display_data"
        }
      ],
      "source": [
        "query = f\"\"\" \n",
        "    SELECT\n",
        "        a.name as area,\n",
        "        COUNT(*) as count\n",
        "    FROM vacancies v\n",
        "    JOIN employers e ON v.employer_id = e.id \n",
        "    JOIN areas a ON e.area = a.id\n",
        "    WHERE   \n",
        "            (lower(v.name) LIKE '%data scientist%' OR \n",
        "            lower(v.name) LIKE '%data science%' OR\n",
        "            lower(v.name) LIKE '%исследователь данных%' OR\n",
        "            (v.name LIKE '%ML%' AND v.name NOT LIKE '%HTML%') OR\n",
        "            lower(v.name) LIKE '%machine learning%' OR\n",
        "            lower(v.name) LIKE '%машинн%обучен%' ) \n",
        "    GROUP BY a.name\n",
        "    ORDER BY COUNT(*) DESC\n",
        "\"\"\"\n",
        "df = pd.read_sql_query(query, connection)\n",
        "display(df)"
      ]
    },
    {
      "cell_type": "code",
      "execution_count": 482,
      "id": "9aac58bc",
      "metadata": {},
      "outputs": [],
      "source": [
        "#Закроем соединение\n",
        "connection.close()"
      ]
    },
    {
      "attachments": {},
      "cell_type": "markdown",
      "id": "h9B3BL-wwj18",
      "metadata": {
        "id": "h9B3BL-wwj18"
      },
      "source": [
        "### Подведем итог исследования\n"
      ]
    },
    {
      "attachments": {},
      "cell_type": "markdown",
      "id": "894d36db",
      "metadata": {},
      "source": [
        "- Большинство вакансий по DS-специальности имеют формат работы подразумевают полную занятость, причем в формате полной занятости наиболее популярна работа в офисе (полный день), затем следует удаленная работы, реже бывает гибкий график. \n",
        "- Большинство DS вакансий сосредоточены в городах-миллионниках, абсолютный лидер в этом направлении Москва, но в целом вакансии встречаются и в регионах, а также и за рубежом.\n",
        "- Главная IT-компания в России это Yandex, имеет наибольшее количество вакансий и представлена в наибольшем числе городов. Высока вероятность начинающему специалисту начать свою карьеру именно там.\n",
        "- Большая часть вакансий находится в городах-миллиониках.\n",
        "- Datascientist-ы имеют в зарплату больше средней в базе.\n",
        "- Ключевые навыки datascientist-ов это python, sql, git, ml, математическая статистика. Так же необходим английский язык\n"
      ]
    },
    {
      "attachments": {},
      "cell_type": "markdown",
      "id": "94ae7e4e",
      "metadata": {},
      "source": [
        "### Возможные дополнительные исследования:\n",
        "- Возможно мы потеряли часть информации отбросив категорию 'others'. Есть предположение, что опытность соискателей из others можно было найти воспользовавшись столбцом key_skills. Посмотреть key_skills у вакансий в которых явно указан уровень и на основании этого дозаполнить уровень тех, у кого он не заполнен.\n",
        "- Можно выяснить какие навыки наиболее существенно влияют на уровень заработной платы."
      ]
    },
    {
      "cell_type": "markdown",
      "id": "2da738c1",
      "metadata": {},
      "source": []
    }
  ],
  "metadata": {
    "colab": {
      "collapsed_sections": [
        "8d62a9f3-f64e-4fe7-bdac-c4dffa16155e"
      ],
      "provenance": []
    },
    "kernelspec": {
      "display_name": "Python 3",
      "language": "python",
      "name": "python3"
    },
    "language_info": {
      "codemirror_mode": {
        "name": "ipython",
        "version": 3
      },
      "file_extension": ".py",
      "mimetype": "text/x-python",
      "name": "python",
      "nbconvert_exporter": "python",
      "pygments_lexer": "ipython3",
      "version": "3.7.9"
    },
    "vscode": {
      "interpreter": {
        "hash": "953e1f864f3652dfb08b41aeb6357147414be9b210c4e0dd065d4b6256979bcc"
      }
    }
  },
  "nbformat": 4,
  "nbformat_minor": 5
}
